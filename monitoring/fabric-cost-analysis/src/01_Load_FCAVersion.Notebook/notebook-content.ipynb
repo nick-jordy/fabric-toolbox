{
    "cells": [
        {
            "cell_type": "markdown",
            "id": "b0fdda9f-2e67-4175-af3e-cd9fe61f7d91",
            "metadata": {
                "microsoft": {
                    "language": "python",
                    "language_group": "synapse_pyspark"
                },
                "nteract": {
                    "transient": {
                        "deleting": false
                    }
                }
            },
            "source": [
                "### Check FCA Version\n",
                "\n",
                "This notebook checks from Fabric-Toolbox repository the latest version of FCA.\n",
                "\n",
                "The FCA_Core_Report will show you, if your current installed FCA version should be updated."
            ]
        },
        {
            "cell_type": "code",
            "execution_count": 1,
            "id": "75e2bbeb-edf0-42a3-b4e5-6c389d749ccd",
            "metadata": {
                "cellStatus": "",
                "microsoft": {
                    "language": "python",
                    "language_group": "synapse_pyspark"
                }
            },
            "outputs": [],
            "source": [
                "# Parameters\n",
                "display_data = False"
            ]
        },
        {
            "cell_type": "code",
            "execution_count": null,
            "id": "65b83661-4bb7-432f-9692-e5b9b55587ae",
            "metadata": {
                "cellStatus": "",
                "microsoft": {
                    "language": "python",
                    "language_group": "synapse_pyspark"
                }
            },
            "outputs": [],
            "source": [
                "from pyspark.sql.functions import lit\n",
                "import requests\n",
                "import json\n",
                "\n",
                "# Step 1: Fetch the JSON from the public URL\n",
                "url = \"https://raw.githubusercontent.com/Pulsweb/FCA/refs/heads/main/monitoring/fabric-cost-analysis/data/current_fca_version.json\"\n",
                "response = requests.get(url)\n",
                "data = response.json()\n",
                "\n",
                "# Step 2: Convert the JSON to a Spark DataFrame\n",
                "df = spark.createDataFrame([data])\n",
                "\n",
                "# Optional: Add a timestamp column for tracking\n",
                "from pyspark.sql.functions import current_timestamp\n",
                "df = df.withColumn(\"last_check_timestamp\", current_timestamp())"
            ]
        },
        {
            "cell_type": "code",
            "execution_count": 3,
            "id": "33e6eac2-7e97-4493-b2f4-a88336279054",
            "metadata": {
                "cellStatus": "",
                "collapsed": false,
                "microsoft": {
                    "language": "python",
                    "language_group": "synapse_pyspark"
                }
            },
            "outputs": [],
            "source": [
                "if display_data:\n",
                "    display(df)"
            ]
        },
        {
            "cell_type": "code",
            "execution_count": null,
            "id": "03b1108d-989b-478f-ba21-e519c5d4a1ff",
            "metadata": {
                "cellStatus": "",
                "microsoft": {
                    "language": "python",
                    "language_group": "synapse_pyspark"
                }
            },
            "outputs": [],
            "source": [
                "# Step 3: Write the DataFrame to a Delta table in the Lakehouse\n",
                "df.write.format(\"delta\").mode(\"overwrite\").option(\"overwriteschema\", \"true\").saveAsTable(\"audit_latest_available_fca_version\")"
            ]
        }
    ],
    "metadata": {
        "dependencies": {
            "lakehouse": {
                "default_lakehouse": "edea360e-6c6d-4761-aeca-d57df8bd7b91",
                "default_lakehouse_name": "FCA",
                "default_lakehouse_workspace_id": "d7ae03b3-c53b-4ee6-af7e-0091be2e7cc4",
                "known_lakehouses": [
                    {
                        "id": "edea360e-6c6d-4761-aeca-d57df8bd7b91"
                    }
                ]
            }
        },
        "kernel_info": {
            "name": "synapse_pyspark"
        },
        "kernelspec": {
            "display_name": "synapse_pyspark",
            "name": "synapse_pyspark"
        },
        "language_info": {
            "name": "python"
        },
        "microsoft": {
            "language": "python",
            "language_group": "synapse_pyspark",
            "ms_spell_check": {
                "ms_spell_check_language": "en"
            }
        },
        "nteract": {
            "version": "nteract-front-end@1.0.0"
        },
        "spark_compute": {
            "compute_id": "/trident/default",
            "session_options": {
                "conf": {
                    "spark.synapse.nbs.session.timeout": "1200000"
                }
            }
        },
        "synapse_widget": {
            "state": {},
            "version": "0.1"
        }
    },
    "nbformat": 4,
    "nbformat_minor": 5
}
