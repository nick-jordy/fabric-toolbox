{
 "cells": [
  {
   "cell_type": "markdown",
   "id": "438cda61-a20b-435c-bda6-29d8c801a6fd",
   "metadata": {
    "microsoft": {
     "language": "python",
     "language_group": "synapse_pyspark"
    },
    "nteract": {
     "transient": {
      "deleting": false
     }
    }
   },
   "source": [
    "# Data Agents Creation and Prep Data for AI\n"
   ]
  },
  {
   "cell_type": "code",
   "execution_count": 1,
   "id": "a1555695-b1bc-4439-8e03-4b67b2a9bf7e",
   "metadata": {
    "jupyter": {
     "outputs_hidden": true
    },
    "microsoft": {
     "language": "python",
     "language_group": "synapse_pyspark"
    }
   },
   "outputs": [
    {
     "data": {
      "application/vnd.livy.statement-meta+json": {
       "execution_finish_time": "2025-07-22T11:25:48.5522641Z",
       "execution_start_time": "2025-07-22T11:25:09.4818535Z",
       "livy_statement_state": "available",
       "normalized_state": "finished",
       "parent_msg_id": "9df769f2-5dbc-4c38-b043-96ced05d16a3",
       "queued_time": "2025-07-22T11:24:58.5452407Z",
       "session_id": "4f2cf745-a009-4414-8a29-23fb2b6124e4",
       "session_start_time": "2025-07-22T11:24:58.5472876Z",
       "spark_pool": null,
       "state": "finished",
       "statement_id": 9,
       "statement_ids": [
        3,
        4,
        5,
        6,
        7,
        8,
        9
       ]
      },
      "text/plain": [
       "StatementMeta(, 4f2cf745-a009-4414-8a29-23fb2b6124e4, 9, Finished, Available, Finished)"
      ]
     },
     "metadata": {},
     "output_type": "display_data"
    },
    {
     "name": "stdout",
     "output_type": "stream",
     "text": [
      "Collecting semantic-link-labs\n",
      "  Downloading semantic_link_labs-0.11.2-py3-none-any.whl.metadata (27 kB)\n",
      "Collecting semantic-link-sempy>=0.11.1 (from semantic-link-labs)\n",
      "  Downloading semantic_link_sempy-0.11.1-py3-none-any.whl.metadata (10 kB)\n",
      "Collecting anytree (from semantic-link-labs)\n",
      "  Downloading anytree-2.13.0-py3-none-any.whl.metadata (8.0 kB)\n",
      "Requirement already satisfied: powerbiclient in /home/trusted-service-user/cluster-env/trident_env/lib/python3.11/site-packages (from semantic-link-labs) (3.1.1)\n",
      "Collecting polib (from semantic-link-labs)\n",
      "  Downloading polib-1.2.0-py2.py3-none-any.whl.metadata (15 kB)\n",
      "Collecting jsonpath_ng (from semantic-link-labs)\n",
      "  Downloading jsonpath_ng-1.7.0-py3-none-any.whl.metadata (18 kB)\n",
      "Requirement already satisfied: clr-loader>=0.2.5 in /home/trusted-service-user/cluster-env/trident_env/lib/python3.11/site-packages (from semantic-link-sempy>=0.11.1->semantic-link-labs) (0.2.5)\n",
      "Requirement already satisfied: graphviz>=0.20.1 in /home/trusted-service-user/cluster-env/trident_env/lib/python3.11/site-packages (from semantic-link-sempy>=0.11.1->semantic-link-labs) (0.20.1)\n",
      "Requirement already satisfied: pyarrow>=12.0.1 in /home/trusted-service-user/cluster-env/trident_env/lib/python3.11/site-packages (from semantic-link-sempy>=0.11.1->semantic-link-labs) (14.0.2)\n",
      "Requirement already satisfied: pythonnet>=3.0.1 in /home/trusted-service-user/cluster-env/trident_env/lib/python3.11/site-packages (from semantic-link-sempy>=0.11.1->semantic-link-labs) (3.0.1)\n",
      "Requirement already satisfied: scikit-learn>=1.2.2 in /home/trusted-service-user/cluster-env/trident_env/lib/python3.11/site-packages (from semantic-link-sempy>=0.11.1->semantic-link-labs) (1.2.2)\n",
      "Requirement already satisfied: setuptools>=68.2.2 in /home/trusted-service-user/cluster-env/trident_env/lib/python3.11/site-packages (from semantic-link-sempy>=0.11.1->semantic-link-labs) (68.2.2)\n",
      "Requirement already satisfied: tqdm>=4.65.0 in /home/trusted-service-user/cluster-env/trident_env/lib/python3.11/site-packages (from semantic-link-sempy>=0.11.1->semantic-link-labs) (4.65.0)\n",
      "Requirement already satisfied: rich>=13.3.5 in /home/trusted-service-user/cluster-env/trident_env/lib/python3.11/site-packages (from semantic-link-sempy>=0.11.1->semantic-link-labs) (13.3.5)\n",
      "Requirement already satisfied: regex>=2023.8.8 in /home/trusted-service-user/cluster-env/trident_env/lib/python3.11/site-packages (from semantic-link-sempy>=0.11.1->semantic-link-labs) (2023.10.3)\n",
      "Requirement already satisfied: pandas>=1.5.3 in /home/trusted-service-user/cluster-env/trident_env/lib/python3.11/site-packages (from semantic-link-sempy>=0.11.1->semantic-link-labs) (2.1.4)\n",
      "Requirement already satisfied: pyspark>=3.4.1 in /home/trusted-service-user/cluster-env/trident_env/lib/python3.11/site-packages (from semantic-link-sempy>=0.11.1->semantic-link-labs) (3.5.1.5.4.20240407)\n",
      "Requirement already satisfied: requests>=2.31.0 in /home/trusted-service-user/cluster-env/trident_env/lib/python3.11/site-packages (from semantic-link-sempy>=0.11.1->semantic-link-labs) (2.31.0)\n",
      "Requirement already satisfied: aiohttp>=3.8.6 in /home/trusted-service-user/cluster-env/trident_env/lib/python3.11/site-packages (from semantic-link-sempy>=0.11.1->semantic-link-labs) (3.9.3)\n",
      "Requirement already satisfied: IPython>=8.14.0 in /home/trusted-service-user/cluster-env/trident_env/lib/python3.11/site-packages (from semantic-link-sempy>=0.11.1->semantic-link-labs) (8.20.0)\n",
      "Requirement already satisfied: tenacity>=8.2.3 in /home/trusted-service-user/cluster-env/trident_env/lib/python3.11/site-packages (from semantic-link-sempy>=0.11.1->semantic-link-labs) (8.2.3)\n",
      "Requirement already satisfied: ply in /home/trusted-service-user/cluster-env/trident_env/lib/python3.11/site-packages (from jsonpath_ng->semantic-link-labs) (3.11)\n",
      "Requirement already satisfied: ipywidgets>=7.0.0 in /home/trusted-service-user/cluster-env/trident_env/lib/python3.11/site-packages (from powerbiclient->semantic-link-labs) (8.1.2)\n",
      "Requirement already satisfied: jupyter-ui-poll>=0.1.2 in /home/trusted-service-user/cluster-env/trident_env/lib/python3.11/site-packages (from powerbiclient->semantic-link-labs) (1.0.0)\n",
      "Requirement already satisfied: msal>=1.8.0 in /home/trusted-service-user/cluster-env/trident_env/lib/python3.11/site-packages (from powerbiclient->semantic-link-labs) (1.25.0)\n",
      "Requirement already satisfied: aiosignal>=1.1.2 in /home/trusted-service-user/cluster-env/trident_env/lib/python3.11/site-packages (from aiohttp>=3.8.6->semantic-link-sempy>=0.11.1->semantic-link-labs) (1.2.0)\n",
      "Requirement already satisfied: attrs>=17.3.0 in /home/trusted-service-user/cluster-env/trident_env/lib/python3.11/site-packages (from aiohttp>=3.8.6->semantic-link-sempy>=0.11.1->semantic-link-labs) (23.1.0)\n",
      "Requirement already satisfied: frozenlist>=1.1.1 in /home/trusted-service-user/cluster-env/trident_env/lib/python3.11/site-packages (from aiohttp>=3.8.6->semantic-link-sempy>=0.11.1->semantic-link-labs) (1.4.0)\n",
      "Requirement already satisfied: multidict<7.0,>=4.5 in /home/trusted-service-user/cluster-env/trident_env/lib/python3.11/site-packages (from aiohttp>=3.8.6->semantic-link-sempy>=0.11.1->semantic-link-labs) (6.0.4)\n",
      "Requirement already satisfied: yarl<2.0,>=1.0 in /home/trusted-service-user/cluster-env/trident_env/lib/python3.11/site-packages (from aiohttp>=3.8.6->semantic-link-sempy>=0.11.1->semantic-link-labs) (1.9.3)\n",
      "Requirement already satisfied: cffi>=1.13 in /home/trusted-service-user/cluster-env/trident_env/lib/python3.11/site-packages (from clr-loader>=0.2.5->semantic-link-sempy>=0.11.1->semantic-link-labs) (1.16.0)\n",
      "Requirement already satisfied: decorator in /home/trusted-service-user/cluster-env/trident_env/lib/python3.11/site-packages (from IPython>=8.14.0->semantic-link-sempy>=0.11.1->semantic-link-labs) (5.1.1)\n",
      "Requirement already satisfied: jedi>=0.16 in /home/trusted-service-user/cluster-env/trident_env/lib/python3.11/site-packages (from IPython>=8.14.0->semantic-link-sempy>=0.11.1->semantic-link-labs) (0.18.1)\n",
      "Requirement already satisfied: matplotlib-inline in /home/trusted-service-user/cluster-env/trident_env/lib/python3.11/site-packages (from IPython>=8.14.0->semantic-link-sempy>=0.11.1->semantic-link-labs) (0.1.6)\n",
      "Requirement already satisfied: prompt-toolkit<3.1.0,>=3.0.41 in /home/trusted-service-user/cluster-env/trident_env/lib/python3.11/site-packages (from IPython>=8.14.0->semantic-link-sempy>=0.11.1->semantic-link-labs) (3.0.43)\n",
      "Requirement already satisfied: pygments>=2.4.0 in /home/trusted-service-user/cluster-env/trident_env/lib/python3.11/site-packages (from IPython>=8.14.0->semantic-link-sempy>=0.11.1->semantic-link-labs) (2.15.1)\n",
      "Requirement already satisfied: stack-data in /home/trusted-service-user/cluster-env/trident_env/lib/python3.11/site-packages (from IPython>=8.14.0->semantic-link-sempy>=0.11.1->semantic-link-labs) (0.2.0)\n",
      "Requirement already satisfied: traitlets>=5 in /home/trusted-service-user/cluster-env/trident_env/lib/python3.11/site-packages (from IPython>=8.14.0->semantic-link-sempy>=0.11.1->semantic-link-labs) (5.7.1)\n",
      "Requirement already satisfied: pexpect>4.3 in /home/trusted-service-user/cluster-env/trident_env/lib/python3.11/site-packages (from IPython>=8.14.0->semantic-link-sempy>=0.11.1->semantic-link-labs) (4.8.0)\n",
      "Requirement already satisfied: comm>=0.1.3 in /home/trusted-service-user/cluster-env/trident_env/lib/python3.11/site-packages (from ipywidgets>=7.0.0->powerbiclient->semantic-link-labs) (0.2.1)\n",
      "Requirement already satisfied: widgetsnbextension~=4.0.10 in /home/trusted-service-user/cluster-env/trident_env/lib/python3.11/site-packages (from ipywidgets>=7.0.0->powerbiclient->semantic-link-labs) (4.0.10)\n",
      "Requirement already satisfied: jupyterlab-widgets~=3.0.10 in /home/trusted-service-user/cluster-env/trident_env/lib/python3.11/site-packages (from ipywidgets>=7.0.0->powerbiclient->semantic-link-labs) (3.0.10)\n",
      "Requirement already satisfied: PyJWT<3,>=1.0.0 in /home/trusted-service-user/cluster-env/trident_env/lib/python3.11/site-packages (from PyJWT[crypto]<3,>=1.0.0->msal>=1.8.0->powerbiclient->semantic-link-labs) (2.4.0)\n",
      "Requirement already satisfied: cryptography<44,>=0.6 in /home/trusted-service-user/cluster-env/trident_env/lib/python3.11/site-packages (from msal>=1.8.0->powerbiclient->semantic-link-labs) (42.0.2)\n",
      "Requirement already satisfied: numpy<2,>=1.23.2 in /home/trusted-service-user/cluster-env/trident_env/lib/python3.11/site-packages (from pandas>=1.5.3->semantic-link-sempy>=0.11.1->semantic-link-labs) (1.26.4)\n",
      "Requirement already satisfied: python-dateutil>=2.8.2 in /home/trusted-service-user/cluster-env/trident_env/lib/python3.11/site-packages (from pandas>=1.5.3->semantic-link-sempy>=0.11.1->semantic-link-labs) (2.8.2)\n",
      "Requirement already satisfied: pytz>=2020.1 in /home/trusted-service-user/cluster-env/trident_env/lib/python3.11/site-packages (from pandas>=1.5.3->semantic-link-sempy>=0.11.1->semantic-link-labs) (2023.3.post1)\n",
      "Requirement already satisfied: tzdata>=2022.1 in /home/trusted-service-user/cluster-env/trident_env/lib/python3.11/site-packages (from pandas>=1.5.3->semantic-link-sempy>=0.11.1->semantic-link-labs) (2023.3)\n",
      "Requirement already satisfied: py4j==0.10.9.7 in /home/trusted-service-user/cluster-env/trident_env/lib/python3.11/site-packages (from pyspark>=3.4.1->semantic-link-sempy>=0.11.1->semantic-link-labs) (0.10.9.7)\n",
      "Requirement already satisfied: charset-normalizer<4,>=2 in /home/trusted-service-user/cluster-env/trident_env/lib/python3.11/site-packages (from requests>=2.31.0->semantic-link-sempy>=0.11.1->semantic-link-labs) (2.0.4)\n",
      "Requirement already satisfied: idna<4,>=2.5 in /home/trusted-service-user/cluster-env/trident_env/lib/python3.11/site-packages (from requests>=2.31.0->semantic-link-sempy>=0.11.1->semantic-link-labs) (3.4)\n",
      "Requirement already satisfied: urllib3<3,>=1.21.1 in /home/trusted-service-user/cluster-env/trident_env/lib/python3.11/site-packages (from requests>=2.31.0->semantic-link-sempy>=0.11.1->semantic-link-labs) (2.1.0)\n",
      "Requirement already satisfied: certifi>=2017.4.17 in /home/trusted-service-user/cluster-env/trident_env/lib/python3.11/site-packages (from requests>=2.31.0->semantic-link-sempy>=0.11.1->semantic-link-labs) (2024.2.2)\n",
      "Requirement already satisfied: markdown-it-py<3.0.0,>=2.2.0 in /home/trusted-service-user/cluster-env/trident_env/lib/python3.11/site-packages (from rich>=13.3.5->semantic-link-sempy>=0.11.1->semantic-link-labs) (2.2.0)\n",
      "Requirement already satisfied: scipy>=1.3.2 in /home/trusted-service-user/cluster-env/trident_env/lib/python3.11/site-packages (from scikit-learn>=1.2.2->semantic-link-sempy>=0.11.1->semantic-link-labs) (1.11.4)\n",
      "Requirement already satisfied: joblib>=1.1.1 in /home/trusted-service-user/cluster-env/trident_env/lib/python3.11/site-packages (from scikit-learn>=1.2.2->semantic-link-sempy>=0.11.1->semantic-link-labs) (1.2.0)\n",
      "Requirement already satisfied: threadpoolctl>=2.0.0 in /home/trusted-service-user/cluster-env/trident_env/lib/python3.11/site-packages (from scikit-learn>=1.2.2->semantic-link-sempy>=0.11.1->semantic-link-labs) (2.2.0)\n",
      "Requirement already satisfied: pycparser in /home/trusted-service-user/cluster-env/trident_env/lib/python3.11/site-packages (from cffi>=1.13->clr-loader>=0.2.5->semantic-link-sempy>=0.11.1->semantic-link-labs) (2.21)\n",
      "Requirement already satisfied: parso<0.9.0,>=0.8.0 in /home/trusted-service-user/cluster-env/trident_env/lib/python3.11/site-packages (from jedi>=0.16->IPython>=8.14.0->semantic-link-sempy>=0.11.1->semantic-link-labs) (0.8.3)\n",
      "Requirement already satisfied: mdurl~=0.1 in /home/trusted-service-user/cluster-env/trident_env/lib/python3.11/site-packages (from markdown-it-py<3.0.0,>=2.2.0->rich>=13.3.5->semantic-link-sempy>=0.11.1->semantic-link-labs) (0.1.0)\n",
      "Requirement already satisfied: ptyprocess>=0.5 in /home/trusted-service-user/cluster-env/trident_env/lib/python3.11/site-packages (from pexpect>4.3->IPython>=8.14.0->semantic-link-sempy>=0.11.1->semantic-link-labs) (0.7.0)\n",
      "Requirement already satisfied: wcwidth in /home/trusted-service-user/cluster-env/trident_env/lib/python3.11/site-packages (from prompt-toolkit<3.1.0,>=3.0.41->IPython>=8.14.0->semantic-link-sempy>=0.11.1->semantic-link-labs) (0.2.5)\n",
      "Requirement already satisfied: six>=1.5 in /home/trusted-service-user/cluster-env/trident_env/lib/python3.11/site-packages (from python-dateutil>=2.8.2->pandas>=1.5.3->semantic-link-sempy>=0.11.1->semantic-link-labs) (1.16.0)\n",
      "Requirement already satisfied: executing in /home/trusted-service-user/cluster-env/trident_env/lib/python3.11/site-packages (from stack-data->IPython>=8.14.0->semantic-link-sempy>=0.11.1->semantic-link-labs) (0.8.3)\n",
      "Requirement already satisfied: asttokens in /home/trusted-service-user/cluster-env/trident_env/lib/python3.11/site-packages (from stack-data->IPython>=8.14.0->semantic-link-sempy>=0.11.1->semantic-link-labs) (2.0.5)\n",
      "Requirement already satisfied: pure-eval in /home/trusted-service-user/cluster-env/trident_env/lib/python3.11/site-packages (from stack-data->IPython>=8.14.0->semantic-link-sempy>=0.11.1->semantic-link-labs) (0.2.2)\n",
      "Downloading semantic_link_labs-0.11.2-py3-none-any.whl (743 kB)\n",
      "\u001b[2K   \u001b[90m━━━━━━━━━━━━━━━━━━━━━━━━━━━━━━━━━━━━━━━━\u001b[0m \u001b[32m743.1/743.1 kB\u001b[0m \u001b[31m8.9 MB/s\u001b[0m eta \u001b[36m0:00:00\u001b[0ma \u001b[36m0:00:01\u001b[0m\n",
      "\u001b[?25hDownloading semantic_link_sempy-0.11.1-py3-none-any.whl (3.2 MB)\n",
      "\u001b[2K   \u001b[90m━━━━━━━━━━━━━━━━━━━━━━━━━━━━━━━━━━━━━━━━\u001b[0m \u001b[32m3.2/3.2 MB\u001b[0m \u001b[31m19.1 MB/s\u001b[0m eta \u001b[36m0:00:00\u001b[0ma \u001b[36m0:00:01\u001b[0m\n",
      "\u001b[?25hDownloading anytree-2.13.0-py3-none-any.whl (45 kB)\n",
      "\u001b[2K   \u001b[90m━━━━━━━━━━━━━━━━━━━━━━━━━━━━━━━━━━━━━━━━\u001b[0m \u001b[32m45.1/45.1 kB\u001b[0m \u001b[31m14.3 MB/s\u001b[0m eta \u001b[36m0:00:00\u001b[0m\n",
      "\u001b[?25hDownloading jsonpath_ng-1.7.0-py3-none-any.whl (30 kB)\n",
      "Downloading polib-1.2.0-py2.py3-none-any.whl (20 kB)\n",
      "Installing collected packages: polib, jsonpath_ng, anytree, semantic-link-sempy, semantic-link-labs\n",
      "  Attempting uninstall: semantic-link-sempy\n",
      "    Found existing installation: semantic-link-sempy 0.10.2\n",
      "    Not uninstalling semantic-link-sempy at /home/trusted-service-user/cluster-env/trident_env/lib/python3.11/site-packages, outside environment /nfs4/pyenv-3316e6a0-60ee-4f9a-81c4-d86068198d07\n",
      "    Can't uninstall 'semantic-link-sempy'. No files were found to uninstall.\n",
      "Successfully installed anytree-2.13.0 jsonpath_ng-1.7.0 polib-1.2.0 semantic-link-labs-0.11.2 semantic-link-sempy-0.11.1\n",
      "\n",
      "\u001b[1m[\u001b[0m\u001b[34;49mnotice\u001b[0m\u001b[1;39;49m]\u001b[0m\u001b[39;49m A new release of pip is available: \u001b[0m\u001b[31;49m24.0\u001b[0m\u001b[39;49m -> \u001b[0m\u001b[32;49m25.1.1\u001b[0m\n",
      "\u001b[1m[\u001b[0m\u001b[34;49mnotice\u001b[0m\u001b[1;39;49m]\u001b[0m\u001b[39;49m To update, run: \u001b[0m\u001b[32;49mpython -m pip install --upgrade pip\u001b[0m\n",
      "Note: you may need to restart the kernel to use updated packages.\n",
      "Collecting fabric-data-agent-sdk\n",
      "  Downloading fabric_data_agent_sdk-0.1.10a0-py3-none-any.whl.metadata (5.0 kB)\n",
      "Requirement already satisfied: semantic-link-sempy>=0.8.0 in /nfs4/pyenv-3316e6a0-60ee-4f9a-81c4-d86068198d07/lib/python3.11/site-packages (from fabric-data-agent-sdk) (0.11.1)\n",
      "Collecting openai>=1.57.0 (from fabric-data-agent-sdk)\n",
      "  Downloading openai-1.97.0-py3-none-any.whl.metadata (29 kB)\n",
      "Collecting httpx==0.27.2 (from fabric-data-agent-sdk)\n",
      "  Downloading httpx-0.27.2-py3-none-any.whl.metadata (7.1 kB)\n",
      "Collecting semantic-link-labs==0.9.10 (from fabric-data-agent-sdk)\n",
      "  Downloading semantic_link_labs-0.9.10-py3-none-any.whl.metadata (26 kB)\n",
      "Collecting azure-kusto-data>=4.5.0 (from fabric-data-agent-sdk)\n",
      "  Downloading azure_kusto_data-5.0.5-py2.py3-none-any.whl.metadata (4.2 kB)\n",
      "Collecting azure-identity==1.17.1 (from fabric-data-agent-sdk)\n",
      "  Downloading azure_identity-1.17.1-py3-none-any.whl.metadata (79 kB)\n",
      "\u001b[2K     \u001b[90m━━━━━━━━━━━━━━━━━━━━━━━━━━━━━━━━━━━━━━━━\u001b[0m \u001b[32m79.4/79.4 kB\u001b[0m \u001b[31m4.9 MB/s\u001b[0m eta \u001b[36m0:00:00\u001b[0m\n",
      "\u001b[?25hCollecting markdown2==2.5.3 (from fabric-data-agent-sdk)\n",
      "  Downloading markdown2-2.5.3-py3-none-any.whl.metadata (2.1 kB)\n",
      "Requirement already satisfied: azure-core>=1.23.0 in /home/trusted-service-user/cluster-env/trident_env/lib/python3.11/site-packages (from azure-identity==1.17.1->fabric-data-agent-sdk) (1.30.2)\n",
      "Requirement already satisfied: cryptography>=2.5 in /home/trusted-service-user/cluster-env/trident_env/lib/python3.11/site-packages (from azure-identity==1.17.1->fabric-data-agent-sdk) (42.0.2)\n",
      "Requirement already satisfied: msal>=1.24.0 in /home/trusted-service-user/cluster-env/trident_env/lib/python3.11/site-packages (from azure-identity==1.17.1->fabric-data-agent-sdk) (1.25.0)\n",
      "Requirement already satisfied: msal-extensions>=0.3.0 in /home/trusted-service-user/cluster-env/trident_env/lib/python3.11/site-packages (from azure-identity==1.17.1->fabric-data-agent-sdk) (1.0.0)\n",
      "Requirement already satisfied: typing-extensions>=4.0.0 in /home/trusted-service-user/cluster-env/trident_env/lib/python3.11/site-packages (from azure-identity==1.17.1->fabric-data-agent-sdk) (4.9.0)\n",
      "Requirement already satisfied: anyio in /home/trusted-service-user/cluster-env/trident_env/lib/python3.11/site-packages (from httpx==0.27.2->fabric-data-agent-sdk) (4.2.0)\n",
      "Requirement already satisfied: certifi in /home/trusted-service-user/cluster-env/trident_env/lib/python3.11/site-packages (from httpx==0.27.2->fabric-data-agent-sdk) (2024.2.2)\n",
      "Collecting httpcore==1.* (from httpx==0.27.2->fabric-data-agent-sdk)\n",
      "  Downloading httpcore-1.0.9-py3-none-any.whl.metadata (21 kB)\n",
      "Requirement already satisfied: idna in /home/trusted-service-user/cluster-env/trident_env/lib/python3.11/site-packages (from httpx==0.27.2->fabric-data-agent-sdk) (3.4)\n",
      "Requirement already satisfied: sniffio in /home/trusted-service-user/cluster-env/trident_env/lib/python3.11/site-packages (from httpx==0.27.2->fabric-data-agent-sdk) (1.3.0)\n",
      "Requirement already satisfied: anytree in /nfs4/pyenv-3316e6a0-60ee-4f9a-81c4-d86068198d07/lib/python3.11/site-packages (from semantic-link-labs==0.9.10->fabric-data-agent-sdk) (2.13.0)\n",
      "Requirement already satisfied: powerbiclient in /home/trusted-service-user/cluster-env/trident_env/lib/python3.11/site-packages (from semantic-link-labs==0.9.10->fabric-data-agent-sdk) (3.1.1)\n",
      "Requirement already satisfied: polib in /nfs4/pyenv-3316e6a0-60ee-4f9a-81c4-d86068198d07/lib/python3.11/site-packages (from semantic-link-labs==0.9.10->fabric-data-agent-sdk) (1.2.0)\n",
      "Requirement already satisfied: jsonpath_ng in /nfs4/pyenv-3316e6a0-60ee-4f9a-81c4-d86068198d07/lib/python3.11/site-packages (from semantic-link-labs==0.9.10->fabric-data-agent-sdk) (1.7.0)\n",
      "Collecting h11>=0.16 (from httpcore==1.*->httpx==0.27.2->fabric-data-agent-sdk)\n",
      "  Downloading h11-0.16.0-py3-none-any.whl.metadata (8.3 kB)\n",
      "Requirement already satisfied: python-dateutil>=2.8.0 in /home/trusted-service-user/cluster-env/trident_env/lib/python3.11/site-packages (from azure-kusto-data>=4.5.0->fabric-data-agent-sdk) (2.8.2)\n",
      "Collecting requests>=2.32.3 (from azure-kusto-data>=4.5.0->fabric-data-agent-sdk)\n",
      "  Downloading requests-2.32.4-py3-none-any.whl.metadata (4.9 kB)\n",
      "INFO: pip is looking at multiple versions of azure-kusto-data to determine which version is compatible with other requirements. This could take a while.\n",
      "Collecting azure-kusto-data>=4.5.0 (from fabric-data-agent-sdk)\n",
      "  Downloading azure_kusto_data-5.0.4-py2.py3-none-any.whl.metadata (4.2 kB)\n",
      "  Downloading azure_kusto_data-5.0.3-py2.py3-none-any.whl.metadata (4.2 kB)\n",
      "  Downloading azure_kusto_data-5.0.2-py2.py3-none-any.whl.metadata (4.2 kB)\n",
      "  Downloading azure_kusto_data-5.0.1-py2.py3-none-any.whl.metadata (4.2 kB)\n",
      "  Downloading azure_kusto_data-5.0.0-py2.py3-none-any.whl.metadata (4.2 kB)\n",
      "Collecting requests==2.32.0 (from azure-kusto-data>=4.5.0->fabric-data-agent-sdk)\n",
      "  Downloading requests-2.32.0-py3-none-any.whl.metadata (4.6 kB)\n",
      "Collecting ijson~=3.1 (from azure-kusto-data>=4.5.0->fabric-data-agent-sdk)\n",
      "  Downloading ijson-3.4.0-cp311-cp311-manylinux_2_17_x86_64.manylinux2014_x86_64.whl.metadata (21 kB)\n",
      "Requirement already satisfied: charset-normalizer<4,>=2 in /home/trusted-service-user/cluster-env/trident_env/lib/python3.11/site-packages (from requests==2.32.0->azure-kusto-data>=4.5.0->fabric-data-agent-sdk) (2.0.4)\n",
      "Requirement already satisfied: urllib3<3,>=1.21.1 in /home/trusted-service-user/cluster-env/trident_env/lib/python3.11/site-packages (from requests==2.32.0->azure-kusto-data>=4.5.0->fabric-data-agent-sdk) (2.1.0)\n",
      "Requirement already satisfied: distro<2,>=1.7.0 in /home/trusted-service-user/cluster-env/trident_env/lib/python3.11/site-packages (from openai>=1.57.0->fabric-data-agent-sdk) (1.8.0)\n",
      "Collecting jiter<1,>=0.4.0 (from openai>=1.57.0->fabric-data-agent-sdk)\n",
      "  Downloading jiter-0.10.0-cp311-cp311-manylinux_2_17_x86_64.manylinux2014_x86_64.whl.metadata (5.2 kB)\n",
      "Collecting pydantic<3,>=1.9.0 (from openai>=1.57.0->fabric-data-agent-sdk)\n",
      "  Downloading pydantic-2.11.7-py3-none-any.whl.metadata (67 kB)\n",
      "\u001b[2K     \u001b[90m━━━━━━━━━━━━━━━━━━━━━━━━━━━━━━━━━━━━━━━━\u001b[0m \u001b[32m68.0/68.0 kB\u001b[0m \u001b[31m5.5 MB/s\u001b[0m eta \u001b[36m0:00:00\u001b[0m\n",
      "\u001b[?25hRequirement already satisfied: tqdm>4 in /home/trusted-service-user/cluster-env/trident_env/lib/python3.11/site-packages (from openai>=1.57.0->fabric-data-agent-sdk) (4.65.0)\n",
      "Collecting typing-extensions>=4.0.0 (from azure-identity==1.17.1->fabric-data-agent-sdk)\n",
      "  Downloading typing_extensions-4.14.1-py3-none-any.whl.metadata (3.0 kB)\n",
      "Requirement already satisfied: clr-loader>=0.2.5 in /home/trusted-service-user/cluster-env/trident_env/lib/python3.11/site-packages (from semantic-link-sempy>=0.8.0->fabric-data-agent-sdk) (0.2.5)\n",
      "Requirement already satisfied: graphviz>=0.20.1 in /home/trusted-service-user/cluster-env/trident_env/lib/python3.11/site-packages (from semantic-link-sempy>=0.8.0->fabric-data-agent-sdk) (0.20.1)\n",
      "Requirement already satisfied: pyarrow>=12.0.1 in /home/trusted-service-user/cluster-env/trident_env/lib/python3.11/site-packages (from semantic-link-sempy>=0.8.0->fabric-data-agent-sdk) (14.0.2)\n",
      "Requirement already satisfied: pythonnet>=3.0.1 in /home/trusted-service-user/cluster-env/trident_env/lib/python3.11/site-packages (from semantic-link-sempy>=0.8.0->fabric-data-agent-sdk) (3.0.1)\n",
      "Requirement already satisfied: scikit-learn>=1.2.2 in /home/trusted-service-user/cluster-env/trident_env/lib/python3.11/site-packages (from semantic-link-sempy>=0.8.0->fabric-data-agent-sdk) (1.2.2)\n",
      "Requirement already satisfied: setuptools>=68.2.2 in /home/trusted-service-user/cluster-env/trident_env/lib/python3.11/site-packages (from semantic-link-sempy>=0.8.0->fabric-data-agent-sdk) (68.2.2)\n",
      "Requirement already satisfied: rich>=13.3.5 in /home/trusted-service-user/cluster-env/trident_env/lib/python3.11/site-packages (from semantic-link-sempy>=0.8.0->fabric-data-agent-sdk) (13.3.5)\n",
      "Requirement already satisfied: regex>=2023.8.8 in /home/trusted-service-user/cluster-env/trident_env/lib/python3.11/site-packages (from semantic-link-sempy>=0.8.0->fabric-data-agent-sdk) (2023.10.3)\n",
      "Requirement already satisfied: pandas>=1.5.3 in /home/trusted-service-user/cluster-env/trident_env/lib/python3.11/site-packages (from semantic-link-sempy>=0.8.0->fabric-data-agent-sdk) (2.1.4)\n",
      "Requirement already satisfied: pyspark>=3.4.1 in /home/trusted-service-user/cluster-env/trident_env/lib/python3.11/site-packages (from semantic-link-sempy>=0.8.0->fabric-data-agent-sdk) (3.5.1.5.4.20240407)\n",
      "Requirement already satisfied: aiohttp>=3.8.6 in /home/trusted-service-user/cluster-env/trident_env/lib/python3.11/site-packages (from semantic-link-sempy>=0.8.0->fabric-data-agent-sdk) (3.9.3)\n",
      "Requirement already satisfied: IPython>=8.14.0 in /home/trusted-service-user/cluster-env/trident_env/lib/python3.11/site-packages (from semantic-link-sempy>=0.8.0->fabric-data-agent-sdk) (8.20.0)\n",
      "Requirement already satisfied: tenacity>=8.2.3 in /home/trusted-service-user/cluster-env/trident_env/lib/python3.11/site-packages (from semantic-link-sempy>=0.8.0->fabric-data-agent-sdk) (8.2.3)\n",
      "Requirement already satisfied: aiosignal>=1.1.2 in /home/trusted-service-user/cluster-env/trident_env/lib/python3.11/site-packages (from aiohttp>=3.8.6->semantic-link-sempy>=0.8.0->fabric-data-agent-sdk) (1.2.0)\n",
      "Requirement already satisfied: attrs>=17.3.0 in /home/trusted-service-user/cluster-env/trident_env/lib/python3.11/site-packages (from aiohttp>=3.8.6->semantic-link-sempy>=0.8.0->fabric-data-agent-sdk) (23.1.0)\n",
      "Requirement already satisfied: frozenlist>=1.1.1 in /home/trusted-service-user/cluster-env/trident_env/lib/python3.11/site-packages (from aiohttp>=3.8.6->semantic-link-sempy>=0.8.0->fabric-data-agent-sdk) (1.4.0)\n",
      "Requirement already satisfied: multidict<7.0,>=4.5 in /home/trusted-service-user/cluster-env/trident_env/lib/python3.11/site-packages (from aiohttp>=3.8.6->semantic-link-sempy>=0.8.0->fabric-data-agent-sdk) (6.0.4)\n",
      "Requirement already satisfied: yarl<2.0,>=1.0 in /home/trusted-service-user/cluster-env/trident_env/lib/python3.11/site-packages (from aiohttp>=3.8.6->semantic-link-sempy>=0.8.0->fabric-data-agent-sdk) (1.9.3)\n",
      "Requirement already satisfied: six>=1.11.0 in /home/trusted-service-user/cluster-env/trident_env/lib/python3.11/site-packages (from azure-core>=1.23.0->azure-identity==1.17.1->fabric-data-agent-sdk) (1.16.0)\n",
      "Requirement already satisfied: cffi>=1.13 in /home/trusted-service-user/cluster-env/trident_env/lib/python3.11/site-packages (from clr-loader>=0.2.5->semantic-link-sempy>=0.8.0->fabric-data-agent-sdk) (1.16.0)\n",
      "Requirement already satisfied: decorator in /home/trusted-service-user/cluster-env/trident_env/lib/python3.11/site-packages (from IPython>=8.14.0->semantic-link-sempy>=0.8.0->fabric-data-agent-sdk) (5.1.1)\n",
      "Requirement already satisfied: jedi>=0.16 in /home/trusted-service-user/cluster-env/trident_env/lib/python3.11/site-packages (from IPython>=8.14.0->semantic-link-sempy>=0.8.0->fabric-data-agent-sdk) (0.18.1)\n",
      "Requirement already satisfied: matplotlib-inline in /home/trusted-service-user/cluster-env/trident_env/lib/python3.11/site-packages (from IPython>=8.14.0->semantic-link-sempy>=0.8.0->fabric-data-agent-sdk) (0.1.6)\n",
      "Requirement already satisfied: prompt-toolkit<3.1.0,>=3.0.41 in /home/trusted-service-user/cluster-env/trident_env/lib/python3.11/site-packages (from IPython>=8.14.0->semantic-link-sempy>=0.8.0->fabric-data-agent-sdk) (3.0.43)\n",
      "Requirement already satisfied: pygments>=2.4.0 in /home/trusted-service-user/cluster-env/trident_env/lib/python3.11/site-packages (from IPython>=8.14.0->semantic-link-sempy>=0.8.0->fabric-data-agent-sdk) (2.15.1)\n",
      "Requirement already satisfied: stack-data in /home/trusted-service-user/cluster-env/trident_env/lib/python3.11/site-packages (from IPython>=8.14.0->semantic-link-sempy>=0.8.0->fabric-data-agent-sdk) (0.2.0)\n",
      "Requirement already satisfied: traitlets>=5 in /home/trusted-service-user/cluster-env/trident_env/lib/python3.11/site-packages (from IPython>=8.14.0->semantic-link-sempy>=0.8.0->fabric-data-agent-sdk) (5.7.1)\n",
      "Requirement already satisfied: pexpect>4.3 in /home/trusted-service-user/cluster-env/trident_env/lib/python3.11/site-packages (from IPython>=8.14.0->semantic-link-sempy>=0.8.0->fabric-data-agent-sdk) (4.8.0)\n",
      "Requirement already satisfied: PyJWT<3,>=1.0.0 in /home/trusted-service-user/cluster-env/trident_env/lib/python3.11/site-packages (from PyJWT[crypto]<3,>=1.0.0->msal>=1.24.0->azure-identity==1.17.1->fabric-data-agent-sdk) (2.4.0)\n",
      "Requirement already satisfied: portalocker<3,>=1.0 in /home/trusted-service-user/cluster-env/trident_env/lib/python3.11/site-packages (from msal-extensions>=0.3.0->azure-identity==1.17.1->fabric-data-agent-sdk) (2.3.0)\n",
      "Requirement already satisfied: numpy<2,>=1.23.2 in /home/trusted-service-user/cluster-env/trident_env/lib/python3.11/site-packages (from pandas>=1.5.3->semantic-link-sempy>=0.8.0->fabric-data-agent-sdk) (1.26.4)\n",
      "Requirement already satisfied: pytz>=2020.1 in /home/trusted-service-user/cluster-env/trident_env/lib/python3.11/site-packages (from pandas>=1.5.3->semantic-link-sempy>=0.8.0->fabric-data-agent-sdk) (2023.3.post1)\n",
      "Requirement already satisfied: tzdata>=2022.1 in /home/trusted-service-user/cluster-env/trident_env/lib/python3.11/site-packages (from pandas>=1.5.3->semantic-link-sempy>=0.8.0->fabric-data-agent-sdk) (2023.3)\n",
      "Collecting annotated-types>=0.6.0 (from pydantic<3,>=1.9.0->openai>=1.57.0->fabric-data-agent-sdk)\n",
      "  Downloading annotated_types-0.7.0-py3-none-any.whl.metadata (15 kB)\n",
      "Collecting pydantic-core==2.33.2 (from pydantic<3,>=1.9.0->openai>=1.57.0->fabric-data-agent-sdk)\n",
      "  Downloading pydantic_core-2.33.2-cp311-cp311-manylinux_2_17_x86_64.manylinux2014_x86_64.whl.metadata (6.8 kB)\n",
      "Collecting typing-inspection>=0.4.0 (from pydantic<3,>=1.9.0->openai>=1.57.0->fabric-data-agent-sdk)\n",
      "  Downloading typing_inspection-0.4.1-py3-none-any.whl.metadata (2.6 kB)\n",
      "Requirement already satisfied: py4j==0.10.9.7 in /home/trusted-service-user/cluster-env/trident_env/lib/python3.11/site-packages (from pyspark>=3.4.1->semantic-link-sempy>=0.8.0->fabric-data-agent-sdk) (0.10.9.7)\n",
      "Requirement already satisfied: markdown-it-py<3.0.0,>=2.2.0 in /home/trusted-service-user/cluster-env/trident_env/lib/python3.11/site-packages (from rich>=13.3.5->semantic-link-sempy>=0.8.0->fabric-data-agent-sdk) (2.2.0)\n",
      "Requirement already satisfied: scipy>=1.3.2 in /home/trusted-service-user/cluster-env/trident_env/lib/python3.11/site-packages (from scikit-learn>=1.2.2->semantic-link-sempy>=0.8.0->fabric-data-agent-sdk) (1.11.4)\n",
      "Requirement already satisfied: joblib>=1.1.1 in /home/trusted-service-user/cluster-env/trident_env/lib/python3.11/site-packages (from scikit-learn>=1.2.2->semantic-link-sempy>=0.8.0->fabric-data-agent-sdk) (1.2.0)\n",
      "Requirement already satisfied: threadpoolctl>=2.0.0 in /home/trusted-service-user/cluster-env/trident_env/lib/python3.11/site-packages (from scikit-learn>=1.2.2->semantic-link-sempy>=0.8.0->fabric-data-agent-sdk) (2.2.0)\n",
      "Requirement already satisfied: ply in /home/trusted-service-user/cluster-env/trident_env/lib/python3.11/site-packages (from jsonpath_ng->semantic-link-labs==0.9.10->fabric-data-agent-sdk) (3.11)\n",
      "Requirement already satisfied: ipywidgets>=7.0.0 in /home/trusted-service-user/cluster-env/trident_env/lib/python3.11/site-packages (from powerbiclient->semantic-link-labs==0.9.10->fabric-data-agent-sdk) (8.1.2)\n",
      "Requirement already satisfied: jupyter-ui-poll>=0.1.2 in /home/trusted-service-user/cluster-env/trident_env/lib/python3.11/site-packages (from powerbiclient->semantic-link-labs==0.9.10->fabric-data-agent-sdk) (1.0.0)\n",
      "Requirement already satisfied: pycparser in /home/trusted-service-user/cluster-env/trident_env/lib/python3.11/site-packages (from cffi>=1.13->clr-loader>=0.2.5->semantic-link-sempy>=0.8.0->fabric-data-agent-sdk) (2.21)\n",
      "Requirement already satisfied: comm>=0.1.3 in /home/trusted-service-user/cluster-env/trident_env/lib/python3.11/site-packages (from ipywidgets>=7.0.0->powerbiclient->semantic-link-labs==0.9.10->fabric-data-agent-sdk) (0.2.1)\n",
      "Requirement already satisfied: widgetsnbextension~=4.0.10 in /home/trusted-service-user/cluster-env/trident_env/lib/python3.11/site-packages (from ipywidgets>=7.0.0->powerbiclient->semantic-link-labs==0.9.10->fabric-data-agent-sdk) (4.0.10)\n",
      "Requirement already satisfied: jupyterlab-widgets~=3.0.10 in /home/trusted-service-user/cluster-env/trident_env/lib/python3.11/site-packages (from ipywidgets>=7.0.0->powerbiclient->semantic-link-labs==0.9.10->fabric-data-agent-sdk) (3.0.10)\n",
      "Requirement already satisfied: parso<0.9.0,>=0.8.0 in /home/trusted-service-user/cluster-env/trident_env/lib/python3.11/site-packages (from jedi>=0.16->IPython>=8.14.0->semantic-link-sempy>=0.8.0->fabric-data-agent-sdk) (0.8.3)\n",
      "Requirement already satisfied: mdurl~=0.1 in /home/trusted-service-user/cluster-env/trident_env/lib/python3.11/site-packages (from markdown-it-py<3.0.0,>=2.2.0->rich>=13.3.5->semantic-link-sempy>=0.8.0->fabric-data-agent-sdk) (0.1.0)\n",
      "Requirement already satisfied: ptyprocess>=0.5 in /home/trusted-service-user/cluster-env/trident_env/lib/python3.11/site-packages (from pexpect>4.3->IPython>=8.14.0->semantic-link-sempy>=0.8.0->fabric-data-agent-sdk) (0.7.0)\n",
      "Requirement already satisfied: wcwidth in /home/trusted-service-user/cluster-env/trident_env/lib/python3.11/site-packages (from prompt-toolkit<3.1.0,>=3.0.41->IPython>=8.14.0->semantic-link-sempy>=0.8.0->fabric-data-agent-sdk) (0.2.5)\n",
      "Requirement already satisfied: executing in /home/trusted-service-user/cluster-env/trident_env/lib/python3.11/site-packages (from stack-data->IPython>=8.14.0->semantic-link-sempy>=0.8.0->fabric-data-agent-sdk) (0.8.3)\n",
      "Requirement already satisfied: asttokens in /home/trusted-service-user/cluster-env/trident_env/lib/python3.11/site-packages (from stack-data->IPython>=8.14.0->semantic-link-sempy>=0.8.0->fabric-data-agent-sdk) (2.0.5)\n",
      "Requirement already satisfied: pure-eval in /home/trusted-service-user/cluster-env/trident_env/lib/python3.11/site-packages (from stack-data->IPython>=8.14.0->semantic-link-sempy>=0.8.0->fabric-data-agent-sdk) (0.2.2)\n",
      "\u001b[33mWARNING: The candidate selected for download or install is a yanked version: 'requests' candidate (version 2.32.0 at https://files.pythonhosted.org/packages/24/e8/09e8d662a9675a4e4f5dd7a8e6127b463a091d2703ed931a64aa66d00065/requests-2.32.0-py3-none-any.whl (from https://pypi.org/simple/requests/) (requires-python:>=3.8))\n",
      "Reason for being yanked: Yanked due to conflicts with CVE-2024-35195 mitigation\u001b[0m\u001b[33m\n",
      "\u001b[0mDownloading fabric_data_agent_sdk-0.1.10a0-py3-none-any.whl (37 kB)\n",
      "Downloading azure_identity-1.17.1-py3-none-any.whl (173 kB)\n",
      "\u001b[2K   \u001b[90m━━━━━━━━━━━━━━━━━━━━━━━━━━━━━━━━━━━━━━━━\u001b[0m \u001b[32m173.2/173.2 kB\u001b[0m \u001b[31m7.2 MB/s\u001b[0m eta \u001b[36m0:00:00\u001b[0m\n",
      "\u001b[?25hDownloading httpx-0.27.2-py3-none-any.whl (76 kB)\n",
      "\u001b[2K   \u001b[90m━━━━━━━━━━━━━━━━━━━━━━━━━━━━━━━━━━━━━━━━\u001b[0m \u001b[32m76.4/76.4 kB\u001b[0m \u001b[31m6.2 MB/s\u001b[0m eta \u001b[36m0:00:00\u001b[0m\n",
      "\u001b[?25hDownloading markdown2-2.5.3-py3-none-any.whl (48 kB)\n",
      "\u001b[2K   \u001b[90m━━━━━━━━━━━━━━━━━━━━━━━━━━━━━━━━━━━━━━━━\u001b[0m \u001b[32m48.5/48.5 kB\u001b[0m \u001b[31m9.0 MB/s\u001b[0m eta \u001b[36m0:00:00\u001b[0m\n",
      "\u001b[?25hDownloading semantic_link_labs-0.9.10-py3-none-any.whl (699 kB)\n",
      "\u001b[2K   \u001b[90m━━━━━━━━━━━━━━━━━━━━━━━━━━━━━━━━━━━━━━━━\u001b[0m \u001b[32m699.3/699.3 kB\u001b[0m \u001b[31m9.9 MB/s\u001b[0m eta \u001b[36m0:00:00\u001b[0m:00:01\u001b[0m0:01\u001b[0m\n",
      "\u001b[?25hDownloading httpcore-1.0.9-py3-none-any.whl (78 kB)\n",
      "\u001b[2K   \u001b[90m━━━━━━━━━━━━━━━━━━━━━━━━━━━━━━━━━━━━━━━━\u001b[0m \u001b[32m78.8/78.8 kB\u001b[0m \u001b[31m14.2 MB/s\u001b[0m eta \u001b[36m0:00:00\u001b[0m\n",
      "\u001b[?25hDownloading azure_kusto_data-5.0.0-py2.py3-none-any.whl (52 kB)\n",
      "\u001b[2K   \u001b[90m━━━━━━━━━━━━━━━━━━━━━━━━━━━━━━━━━━━━━━━━\u001b[0m \u001b[32m52.2/52.2 kB\u001b[0m \u001b[31m12.9 MB/s\u001b[0m eta \u001b[36m0:00:00\u001b[0m\n",
      "\u001b[?25hDownloading requests-2.32.0-py3-none-any.whl (63 kB)\n",
      "\u001b[2K   \u001b[90m━━━━━━━━━━━━━━━━━━━━━━━━━━━━━━━━━━━━━━━━\u001b[0m \u001b[32m63.7/63.7 kB\u001b[0m \u001b[31m12.2 MB/s\u001b[0m eta \u001b[36m0:00:00\u001b[0m\n",
      "\u001b[?25hDownloading openai-1.97.0-py3-none-any.whl (764 kB)\n",
      "\u001b[2K   \u001b[90m━━━━━━━━━━━━━━━━━━━━━━━━━━━━━━━━━━━━━━━━\u001b[0m \u001b[32m765.0/765.0 kB\u001b[0m \u001b[31m14.0 MB/s\u001b[0m eta \u001b[36m0:00:00\u001b[0ma \u001b[36m0:00:01\u001b[0m\n",
      "\u001b[?25hDownloading ijson-3.4.0-cp311-cp311-manylinux_2_17_x86_64.manylinux2014_x86_64.whl (134 kB)\n",
      "\u001b[2K   \u001b[90m━━━━━━━━━━━━━━━━━━━━━━━━━━━━━━━━━━━━━━━━\u001b[0m \u001b[32m135.0/135.0 kB\u001b[0m \u001b[31m20.2 MB/s\u001b[0m eta \u001b[36m0:00:00\u001b[0m\n",
      "\u001b[?25hDownloading jiter-0.10.0-cp311-cp311-manylinux_2_17_x86_64.manylinux2014_x86_64.whl (352 kB)\n",
      "\u001b[2K   \u001b[90m━━━━━━━━━━━━━━━━━━━━━━━━━━━━━━━━━━━━━━━━\u001b[0m \u001b[32m352.2/352.2 kB\u001b[0m \u001b[31m17.5 MB/s\u001b[0m eta \u001b[36m0:00:00\u001b[0m\n",
      "\u001b[?25hDownloading pydantic-2.11.7-py3-none-any.whl (444 kB)\n",
      "\u001b[2K   \u001b[90m━━━━━━━━━━━━━━━━━━━━━━━━━━━━━━━━━━━━━━━━\u001b[0m \u001b[32m444.8/444.8 kB\u001b[0m \u001b[31m18.7 MB/s\u001b[0m eta \u001b[36m0:00:00\u001b[0m\n",
      "\u001b[?25hDownloading pydantic_core-2.33.2-cp311-cp311-manylinux_2_17_x86_64.manylinux2014_x86_64.whl (2.0 MB)\n",
      "\u001b[2K   \u001b[90m━━━━━━━━━━━━━━━━━━━━━━━━━━━━━━━━━━━━━━━━\u001b[0m \u001b[32m2.0/2.0 MB\u001b[0m \u001b[31m23.6 MB/s\u001b[0m eta \u001b[36m0:00:00\u001b[0ma \u001b[36m0:00:01\u001b[0m\n",
      "\u001b[?25hDownloading typing_extensions-4.14.1-py3-none-any.whl (43 kB)\n",
      "\u001b[2K   \u001b[90m━━━━━━━━━━━━━━━━━━━━━━━━━━━━━━━━━━━━━━━━\u001b[0m \u001b[32m43.9/43.9 kB\u001b[0m \u001b[31m12.7 MB/s\u001b[0m eta \u001b[36m0:00:00\u001b[0m\n",
      "\u001b[?25hDownloading annotated_types-0.7.0-py3-none-any.whl (13 kB)\n",
      "Downloading h11-0.16.0-py3-none-any.whl (37 kB)\n",
      "Downloading typing_inspection-0.4.1-py3-none-any.whl (14 kB)\n",
      "Installing collected packages: typing-extensions, requests, markdown2, jiter, ijson, h11, annotated-types, typing-inspection, pydantic-core, httpcore, pydantic, httpx, openai, semantic-link-labs, azure-identity, azure-kusto-data, fabric-data-agent-sdk\n",
      "  Attempting uninstall: typing-extensions\n",
      "    Found existing installation: typing_extensions 4.9.0\n",
      "    Not uninstalling typing-extensions at /home/trusted-service-user/cluster-env/trident_env/lib/python3.11/site-packages, outside environment /nfs4/pyenv-3316e6a0-60ee-4f9a-81c4-d86068198d07\n",
      "    Can't uninstall 'typing_extensions'. No files were found to uninstall.\n",
      "  Attempting uninstall: requests\n",
      "    Found existing installation: requests 2.31.0\n",
      "    Not uninstalling requests at /home/trusted-service-user/cluster-env/trident_env/lib/python3.11/site-packages, outside environment /nfs4/pyenv-3316e6a0-60ee-4f9a-81c4-d86068198d07\n",
      "    Can't uninstall 'requests'. No files were found to uninstall.\n",
      "  Attempting uninstall: semantic-link-labs\n",
      "    Found existing installation: semantic-link-labs 0.11.2\n",
      "    Uninstalling semantic-link-labs-0.11.2:\n",
      "      Successfully uninstalled semantic-link-labs-0.11.2\n",
      "  Attempting uninstall: azure-identity\n",
      "    Found existing installation: azure-identity 1.15.0\n",
      "    Not uninstalling azure-identity at /home/trusted-service-user/cluster-env/trident_env/lib/python3.11/site-packages, outside environment /nfs4/pyenv-3316e6a0-60ee-4f9a-81c4-d86068198d07\n",
      "    Can't uninstall 'azure-identity'. No files were found to uninstall.\n",
      "\u001b[31mERROR: pip's dependency resolver does not currently take into account all the packages that are installed. This behaviour is the source of the following dependency conflicts.\n",
      "nni 3.0 requires filelock<3.12, but you have filelock 3.13.1 which is incompatible.\n",
      "datasets 2.19.1 requires fsspec[http]<=2024.3.1,>=2023.1.0, but you have fsspec 2024.6.1 which is incompatible.\u001b[0m\u001b[31m\n",
      "\u001b[0mSuccessfully installed annotated-types-0.7.0 azure-identity-1.17.1 azure-kusto-data-5.0.0 fabric-data-agent-sdk-0.1.10a0 h11-0.16.0 httpcore-1.0.9 httpx-0.27.2 ijson-3.4.0 jiter-0.10.0 markdown2-2.5.3 openai-1.97.0 pydantic-2.11.7 pydantic-core-2.33.2 requests-2.32.0 semantic-link-labs-0.9.10 typing-extensions-4.14.1 typing-inspection-0.4.1\n",
      "\n",
      "\u001b[1m[\u001b[0m\u001b[34;49mnotice\u001b[0m\u001b[1;39;49m]\u001b[0m\u001b[39;49m A new release of pip is available: \u001b[0m\u001b[31;49m24.0\u001b[0m\u001b[39;49m -> \u001b[0m\u001b[32;49m25.1.1\u001b[0m\n",
      "\u001b[1m[\u001b[0m\u001b[34;49mnotice\u001b[0m\u001b[1;39;49m]\u001b[0m\u001b[39;49m To update, run: \u001b[0m\u001b[32;49mpython -m pip install --upgrade pip\u001b[0m\n",
      "Note: you may need to restart the kernel to use updated packages.\n",
      "Warning: PySpark kernel has been restarted to use updated packages.\n",
      "\n"
     ]
    }
   ],
   "source": [
    "%pip install semantic-link-labs\n",
    "%pip install fabric-data-agent-sdk\n",
    "\n",
    "from fabric.dataagent.client import (\n",
    "    FabricDataAgentManagement,\n",
    "    create_data_agent,\n",
    ") \n",
    "import sempy_labs as labs\n",
    "import sempy.fabric as fabric"
   ]
  },
  {
   "cell_type": "code",
   "execution_count": 2,
   "id": "3a8e264e-5d61-4b77-b748-9cfc5fb017eb",
   "metadata": {
    "microsoft": {
     "language": "python",
     "language_group": "synapse_pyspark"
    }
   },
   "outputs": [
    {
     "data": {
      "application/vnd.livy.statement-meta+json": {
       "execution_finish_time": "2025-07-22T11:25:51.7227919Z",
       "execution_start_time": "2025-07-22T11:25:51.4150386Z",
       "livy_statement_state": "available",
       "normalized_state": "finished",
       "parent_msg_id": "4869ef15-0708-41bb-91d1-d1f95e8241df",
       "queued_time": "2025-07-22T11:25:22.6012623Z",
       "session_id": "4f2cf745-a009-4414-8a29-23fb2b6124e4",
       "session_start_time": null,
       "spark_pool": null,
       "state": "finished",
       "statement_id": 11,
       "statement_ids": [
        11
       ]
      },
      "text/plain": [
       "StatementMeta(, 4f2cf745-a009-4414-8a29-23fb2b6124e4, 11, Finished, Available, Finished)"
      ]
     },
     "metadata": {},
     "output_type": "display_data"
    }
   ],
   "source": [
    "semanticmodel_name = \"FCA_Core_SM\"\n",
    "data_agent_name = \"FCA_Agent\""
   ]
  },
  {
   "cell_type": "code",
   "execution_count": null,
   "id": "8133bd3d-7296-4f72-a9c1-e02599898cf9",
   "metadata": {
    "microsoft": {
     "language": "python",
     "language_group": "synapse_pyspark"
    }
   },
   "outputs": [
    {
     "data": {
      "application/vnd.livy.statement-meta+json": {
       "execution_finish_time": "2025-07-22T11:29:35.4359671Z",
       "execution_start_time": "2025-07-22T11:29:33.0435821Z",
       "livy_statement_state": "available",
       "normalized_state": "finished",
       "parent_msg_id": "0bc47876-c1cd-4493-bfc0-5cee82b8925c",
       "queued_time": "2025-07-22T11:29:33.0424801Z",
       "session_id": "4f2cf745-a009-4414-8a29-23fb2b6124e4",
       "session_start_time": null,
       "spark_pool": null,
       "state": "finished",
       "statement_id": 19,
       "statement_ids": [
        19
       ]
      },
      "text/plain": [
       "StatementMeta(, 4f2cf745-a009-4414-8a29-23fb2b6124e4, 19, Finished, Available, Finished)"
      ]
     },
     "metadata": {},
     "output_type": "display_data"
    }
   ],
   "source": [
    "# Use create_data_agent() to create a new agent instance\n",
    "data_agent = create_data_agent(data_agent_name)\n",
    "\n",
    "# Use FabricDataAgentManagement() to connect to an existing agent with the same name\n",
    "#data_agent = FabricDataAgentManagement(data_agent_name)\n",
    "\n",
    "#delete_data_agent(data_agent_name)"
   ]
  },
  {
   "cell_type": "code",
   "execution_count": null,
   "id": "b8a1e9f0",
   "metadata": {},
   "outputs": [],
   "source": [
    "result_text = f\"Some synonyms: Total cost = cost; FCA = Fabric Cost Analysis, RI = Reservation, The total pause cost is  \""
   ]
  },
  {
   "cell_type": "code",
   "execution_count": 12,
   "id": "faf9706a-898c-4d62-bae0-06937f24b13a",
   "metadata": {
    "microsoft": {
     "language": "python",
     "language_group": "synapse_pyspark"
    }
   },
   "outputs": [
    {
     "data": {
      "application/vnd.livy.statement-meta+json": {
       "execution_finish_time": "2025-07-22T11:29:45.8553899Z",
       "execution_start_time": "2025-07-22T11:29:41.1778593Z",
       "livy_statement_state": "available",
       "normalized_state": "finished",
       "parent_msg_id": "83e4d1de-1064-4e48-80db-174fbc3aa21b",
       "queued_time": "2025-07-22T11:29:41.1767367Z",
       "session_id": "4f2cf745-a009-4414-8a29-23fb2b6124e4",
       "session_start_time": null,
       "spark_pool": null,
       "state": "finished",
       "statement_id": 21,
       "statement_ids": [
        21
       ]
      },
      "text/plain": [
       "StatementMeta(, 4f2cf745-a009-4414-8a29-23fb2b6124e4, 21, Finished, Available, Finished)"
      ]
     },
     "metadata": {},
     "output_type": "display_data"
    },
    {
     "data": {
      "text/plain": [
       "Datasource(6e8057c2-26df-4a57-9178-b824cd5aee6a)"
      ]
     },
     "execution_count": 40,
     "metadata": {},
     "output_type": "execute_result"
    }
   ],
   "source": [
    "data_agent.add_datasource(semanticmodel_name, type=\"semanticmodel\")"
   ]
  },
  {
   "cell_type": "code",
   "execution_count": null,
   "id": "41423ca7-9da6-4204-af0b-f06f66e871bb",
   "metadata": {
    "microsoft": {
     "language": "python",
     "language_group": "synapse_pyspark"
    }
   },
   "outputs": [
    {
     "data": {
      "application/vnd.livy.statement-meta+json": {
       "execution_finish_time": "2025-07-22T11:29:48.9198476Z",
       "execution_start_time": "2025-07-22T11:29:47.4666524Z",
       "livy_statement_state": "available",
       "normalized_state": "finished",
       "parent_msg_id": "a1437078-8354-498a-9ab0-dc6f2b2492a7",
       "queued_time": "2025-07-22T11:29:47.4655442Z",
       "session_id": "4f2cf745-a009-4414-8a29-23fb2b6124e4",
       "session_start_time": null,
       "spark_pool": null,
       "state": "finished",
       "statement_id": 22,
       "statement_ids": [
        22
       ]
      },
      "text/plain": [
       "StatementMeta(, 4f2cf745-a009-4414-8a29-23fb2b6124e4, 22, Finished, Available, Finished)"
      ]
     },
     "metadata": {},
     "output_type": "display_data"
    },
    {
     "data": {
      "text/plain": [
       "DataAgentConfiguration(instructions='The following synonyms are defined for Semantic Model FCA_Core_SM:\\n', user_description=None)"
      ]
     },
     "execution_count": 43,
     "metadata": {},
     "output_type": "execute_result"
    }
   ],
   "source": [
    "data_agent.update_configuration(\n",
    "    instructions=f\"{result_text}\",\n",
    "    user_description=f\"Data agent to assist users with insights from the Semantic Model {semanticmodel_name}\",\n",
    ")\n",
    "data_agent.get_configuration()"
   ]
  },
  {
   "cell_type": "code",
   "execution_count": null,
   "id": "a5bc451f-1b48-4ee4-b9b5-069feeeb76e6",
   "metadata": {
    "microsoft": {
     "language": "python",
     "language_group": "synapse_pyspark"
    }
   },
   "outputs": [
    {
     "data": {
      "application/vnd.livy.statement-meta+json": {
       "execution_finish_time": "2025-07-22T11:44:21.2565915Z",
       "execution_start_time": "2025-07-22T11:44:18.9223797Z",
       "livy_statement_state": "available",
       "normalized_state": "finished",
       "parent_msg_id": "be3235ef-594d-4675-b6c6-8178a0af5b28",
       "queued_time": "2025-07-22T11:44:18.9212379Z",
       "session_id": "4f2cf745-a009-4414-8a29-23fb2b6124e4",
       "session_start_time": null,
       "spark_pool": null,
       "state": "finished",
       "statement_id": 32,
       "statement_ids": [
        32
       ]
      },
      "text/plain": [
       "StatementMeta(, 4f2cf745-a009-4414-8a29-23fb2b6124e4, 32, Finished, Available, Finished)"
      ]
     },
     "metadata": {},
     "output_type": "display_data"
    },
    {
     "data": {
      "text/plain": [
       "DataAgentConfiguration(instructions='You are a FinOps expert agent that aims to facilitate the understanding and monitoring of the Microsoft Fabric Cost.', user_description=None)"
      ]
     },
     "execution_count": 73,
     "metadata": {},
     "output_type": "execute_result"
    }
   ],
   "source": [
    "user_instructions = \"You are a FinOps expert agent that aims to facilitate the understanding and monitoring of the Microsoft Fabric Cost based on the solution Fabric Cost Analysis (FCA). All cost measures, including #PauseCost, are denominated in the currency indicated by the first value present in the BillingCurrency column of the fca table. When answering about a pausing a capacity, make sure to include the #PauseCost. Reservation (RI) are a saving mecanism #Reservation. The number of capacities is available in the #Capacities measure. The RegionName from the table fca contain the region of the different Fabric Capacities deployed. Additional Cost from the mesure #OtherPAYG contain extra cost. Storage cost are avaiblable with the #OneLake measure and also are additional cost. You can save money with Fabric capacity reservation (RI) by committing to a reservation for your Fabric capacity usage for a duration of one year (41% savings). When you purchase a reservation, the Fabric capacity usage that matches the reservation attributes is no longer charged at the pay-as-you-go rates. Meters (Name column from meters table) contain the details of the different activities made on top of the capacities. They are categorized by the column Category from the same table. When answering about witch capacity cost the most and why, you can refer to the #TotalCost measure and showcase the top 3 meters and their related Category and why not suggest if relevant the use of a reservation (RI) to save money. The description of the Meters are available in the column Description from the meters table.\"\n",
    "data_agent.update_configuration(\n",
    "    instructions=user_instructions,\n",
    ")\n",
    "data_agent.get_configuration()"
   ]
  },
  {
   "cell_type": "code",
   "execution_count": null,
   "id": "f06ddfd1-28df-44d4-be6a-62279fb89da8",
   "metadata": {
    "microsoft": {
     "language": "python",
     "language_group": "synapse_pyspark"
    }
   },
   "outputs": [
    {
     "data": {
      "application/vnd.livy.statement-meta+json": {
       "execution_finish_time": "2025-07-22T11:39:34.9866308Z",
       "execution_start_time": "2025-07-22T11:39:32.6819503Z",
       "livy_statement_state": "available",
       "normalized_state": "finished",
       "parent_msg_id": "5d0c2642-f9d3-436e-a49d-a20197477462",
       "queued_time": "2025-07-22T11:39:32.6808283Z",
       "session_id": "4f2cf745-a009-4414-8a29-23fb2b6124e4",
       "session_start_time": null,
       "spark_pool": null,
       "state": "finished",
       "statement_id": 28,
       "statement_ids": [
        28
       ]
      },
      "text/plain": [
       "StatementMeta(, 4f2cf745-a009-4414-8a29-23fb2b6124e4, 28, Finished, Available, Finished)"
      ]
     },
     "metadata": {},
     "output_type": "display_data"
    }
   ],
   "source": [
    "datasource = data_agent.get_datasources()[0]\n",
    "datasource.select('calendar')\n",
    "datasource.select('meters')\n",
    "datasource.select('fca')"
   ]
  },
  {
   "cell_type": "code",
   "execution_count": null,
   "id": "99054dcd",
   "metadata": {},
   "outputs": [],
   "source": [
    "ds_notes = \"\"\" \\\n",
    "All cost measures, including #PauseCost, are denominated in the currency indicated by the first value present in the BillingCurrency column of the fca table.\n",
    "When answering about a pausing a capacity, make sure to include the #PauseCost.\n",
    "Reservation (RI) are a saving mecanism #Reservation.\n",
    "The number of capacities is available in the #Capacities measure.\n",
    "The RegionName from the table fca contain the region of the different Fabric Capacities deployed.\n",
    "Additional Cost from the mesure #OtherPAYG contain extra cost.\n",
    "Storage cost are avaiblable with the #OneLake measure and also are additional cost.\n",
    "You can save money with Fabric capacity reservation (RI) by committing to a reservation for your Fabric capacity usage for a duration of one year (41% savings).\n",
    "When you purchase a reservation, the Fabric capacity usage that matches the reservation attributes is no longer charged at the pay-as-you-go rates.\n",
    "Meters (Name column from meters table) contain the details of the different activities made on top of the capacities. They are categorized by the column Category from the same table.\n",
    "When answering about witch capacity cost the most and why, you can refer to the #TotalCost measure and showcase the top 3 meters and their related Category and why not suggest if relevant the use of a reservation (RI) to save money.\n",
    "The description of the Meters are available in the column Description from the meters table.\n",
    "\"\"\"\n",
    "data_agent.update_configuration(\n",
    "    instructions=user_instructions,\n",
    ")\n",
    "datasource.get_configuration()"
   ]
  },
  {
   "cell_type": "code",
   "execution_count": 20,
   "id": "5c7dcadb-a497-4e78-9a9e-eb345c1b4238",
   "metadata": {
    "microsoft": {
     "language": "python",
     "language_group": "synapse_pyspark"
    }
   },
   "outputs": [
    {
     "data": {
      "application/vnd.livy.statement-meta+json": {
       "execution_finish_time": "2025-07-22T11:39:51.9352527Z",
       "execution_start_time": "2025-07-22T11:39:49.5546088Z",
       "livy_statement_state": "available",
       "normalized_state": "finished",
       "parent_msg_id": "7bfdbdfb-1e13-425f-b761-1ff4171f714b",
       "queued_time": "2025-07-22T11:39:49.5535176Z",
       "session_id": "4f2cf745-a009-4414-8a29-23fb2b6124e4",
       "session_start_time": null,
       "spark_pool": null,
       "state": "finished",
       "statement_id": 29,
       "statement_ids": [
        29
       ]
      },
      "text/plain": [
       "StatementMeta(, 4f2cf745-a009-4414-8a29-23fb2b6124e4, 29, Finished, Available, Finished)"
      ]
     },
     "metadata": {},
     "output_type": "display_data"
    }
   ],
   "source": [
    "data_agent.publish()"
   ]
  }
 ],
 "metadata": {
  "dependencies": {
   "lakehouse": {
    "default_lakehouse": "edea360e-6c6d-4761-aeca-d57df8bd7b91",
    "default_lakehouse_name": "FCA",
    "default_lakehouse_workspace_id": "d7ae03b3-c53b-4ee6-af7e-0091be2e7cc4",
    "known_lakehouses": [
     {
      "id": "edea360e-6c6d-4761-aeca-d57df8bd7b91"
     }
    ]
   }
  },
  "kernel_info": {
   "name": "synapse_pyspark"
  },
  "kernelspec": {
   "display_name": "Synapse PySpark",
   "language": "Python",
   "name": "synapse_pyspark"
  },
  "language_info": {
   "name": "python"
  },
  "microsoft": {
   "language": "python",
   "language_group": "synapse_pyspark",
   "ms_spell_check": {
    "ms_spell_check_language": "en"
   }
  },
  "nteract": {
   "version": "nteract-front-end@1.0.0"
  },
  "spark_compute": {
   "compute_id": "/trident/default",
   "session_options": {
    "conf": {
     "spark.synapse.nbs.session.timeout": "1200000"
    }
   }
  }
 },
 "nbformat": 4,
 "nbformat_minor": 5
}

