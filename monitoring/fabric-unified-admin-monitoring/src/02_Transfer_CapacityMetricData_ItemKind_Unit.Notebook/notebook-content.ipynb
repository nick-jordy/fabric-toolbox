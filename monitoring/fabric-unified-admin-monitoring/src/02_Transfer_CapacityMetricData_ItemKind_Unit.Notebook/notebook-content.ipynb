{
  "cells": [
    {
      "cell_type": "markdown",
      "source": [
        "#### Capacity Metrics (by Kind)\n",
        "by Workspace by Kind by Day\n",
        "\n",
        "##### Data ingestion strategy:\n",
        "<mark style=\"background: #D69AFE;\">**MERGE**</mark>\n",
        "\n",
        "##### Related pipeline:\n",
        "\n",
        "**Load_Capacity_Metrics_E2E**\n",
        "\n",
        "##### Source:\n",
        "\n",
        "**Capacity Metrics** via SemPy DAX execute query function\n",
        "\n",
        "##### Target:\n",
        "\n",
        "**1 Delta table** in FUAM_Lakehouse \n",
        "- **gold_table_name** variable value"
      ],
      "metadata": {},
      "id": "2e5e455b-990e-4d6c-873a-09dd1b5e85e2"
    },
    {
      "cell_type": "code",
      "source": [
        "import sempy.fabric as fabric\n",
        "from datetime import datetime, timedelta\n",
        "import datetime as dt\n",
        "import pyspark.sql.functions as f\n",
        "from delta.tables import *"
      ],
      "outputs": [],
      "execution_count": 1,
      "metadata": {
        "microsoft": {
          "language": "python",
          "language_group": "synapse_pyspark"
        }
      },
      "id": "33d4923b-706b-4618-912c-c8e4c982217f"
    },
    {
      "cell_type": "code",
      "source": [
        "## Parameters\n",
        "# These parameters will be overwritten while executing the notebook \n",
        "# from Load_FUAM_Data_E2E Pipeline\n",
        "metric_days_in_scope = 2\n",
        "metric_workspace = \"\"\n",
        "metric_dataset = \"\"\n",
        "display_data = False"
      ],
      "outputs": [],
      "execution_count": 2,
      "metadata": {
        "tags": [
          "parameters"
        ],
        "microsoft": {
          "language": "python",
          "language_group": "synapse_pyspark"
        }
      },
      "id": "35635a3a-2fa5-4e51-be87-e11a9444c402"
    },
    {
      "cell_type": "code",
      "source": [
        "## Variables\n",
        "silver_table_name = \"FUAM_Staging_Lakehouse.capacity_metrics_by_item_kind_by_day_silver\"\n",
        "gold_table_name = \"capacity_metrics_by_item_kind_by_day\"\n",
        "gold_table_name_with_prefix = f\"Tables/{gold_table_name}\""
      ],
      "outputs": [],
      "execution_count": 3,
      "metadata": {
        "microsoft": {
          "language": "python",
          "language_group": "synapse_pyspark"
        }
      },
      "id": "812eac31-61be-4d22-82dc-3c538baf2279"
    },
    {
      "cell_type": "code",
      "source": [
        "# Check Table Status\n",
        "version = ''\n",
        "\n",
        "\n",
        "try: \n",
        "    check_table_structure_query = \"\"\"DEFINE    MPARAMETER 'Capacity' = \"0000000-0000-0000-0000-00000000\"\n",
        "                                    EVALUATE   SUMMARIZECOLUMNS(\"Background billable CU %\", [Background billable CU %]    )\"\"\"\n",
        "    check_table_structure_df = fabric.evaluate_dax(workspace=metric_workspace, dataset=metric_dataset, dax_string=check_table_structure_query)\n",
        "    print(\"Test for v44 failed\")\n",
        "except:\n",
        "    print(\"Test for v44 successful\")\n",
        "    version = 'v44'\n",
        "\n",
        "if version == '':\n",
        "    try:\n",
        "        check_table_structure_query = \"\"\"EVALUATE ROW(\"Background billable CU %\", 'All Measures'[Background billable CU %])\"\"\"\n",
        "        check_table_structure_df = fabric.evaluate_dax(workspace=metric_workspace, dataset=metric_dataset, dax_string=check_table_structure_query)\n",
        "        print(\"Test for v40 successful\")\n",
        "        version = 'v40'\n",
        "    except:\n",
        "        print(\"Test for v40 failed\")\n",
        "\n",
        "if version == '':\n",
        "    try:\n",
        "        check_table_structure_query_alternative = \"\"\"EVALUATE ROW(\"xBackground__\", 'All Measures'[xBackground %])\"\"\"\n",
        "        check_table_structure_df_alternative = fabric.evaluate_dax(workspace=metric_workspace, dataset=metric_dataset, dax_string=check_table_structure_query_alternative)\n",
        "        version = 'v37'\n",
        "        print(\"Test for v37 successful\")\n",
        "    except:\n",
        "        print(\"Test for v37 failed\")\n",
        "\n",
        "\n",
        "\n",
        "if version != '':\n",
        "    print( f'Version {version} is valid')\n",
        "else: \n",
        "    print(\"ERROR: Capacity Metrics data structure is not compatible or connection to capacity metrics is not possible.\")\n",
        "    exit\n",
        "\n"
      ],
      "outputs": [],
      "execution_count": 4,
      "metadata": {
        "microsoft": {
          "language": "python",
          "language_group": "synapse_pyspark"
        }
      },
      "id": "475ac778-5e14-4300-9db8-8b433d96ffb2"
    },
    {
      "cell_type": "code",
      "source": [
        "# Fetch capacities from connected capacity metrics app\n",
        "if version in ['v44', 'v40']:\n",
        "  capacity_query = \"\"\"EVALUATE SELECTCOLUMNS (    Capacities, \"capacity Id\", Capacities[capacity Id] , \"state\" , Capacities[state] )\"\"\"\n",
        "else:\n",
        "  capacity_query = \"\"\"EVALUATE SELECTCOLUMNS (    Capacities, \"capacity Id\", Capacities[CapacityId] , \"state\" , Capacities[state] )\"\"\"\n",
        "capacities = fabric.evaluate_dax(workspace=metric_workspace, dataset=metric_dataset, dax_string=capacity_query)\n",
        "capacities.columns = ['CapacityId', 'State']\n",
        "capacities = spark.createDataFrame(capacities)"
      ],
      "outputs": [],
      "execution_count": 5,
      "metadata": {
        "microsoft": {
          "language": "python",
          "language_group": "synapse_pyspark"
        }
      },
      "id": "9eb856a2-8257-4bfd-98b5-a39d7b92ad82"
    },
    {
      "cell_type": "code",
      "source": [
        "if display_data:\n",
        "    display(capacities)"
      ],
      "outputs": [],
      "execution_count": 6,
      "metadata": {
        "microsoft": {
          "language": "python",
          "language_group": "synapse_pyspark"
        },
        "collapsed": false
      },
      "id": "46c219ef-e6e0-4348-b660-7eebb91c5929"
    },
    {
      "cell_type": "code",
      "source": [
        "# Iterate days\n",
        "def iterate_dates(start_date, end_date):\n",
        "    # Init array\n",
        "    dates = []\n",
        "    # Convert string inputs to datetime objects\n",
        "    start = dt.datetime.strptime(start_date, '%Y-%m-%d')\n",
        "    end = dt.datetime.strptime(end_date, '%Y-%m-%d')\n",
        "    \n",
        "    # Initialize current date as start date\n",
        "    current_date = start.date()\n",
        "    \n",
        "    while current_date <= end.date():\n",
        "\n",
        "        dates.append(\n",
        "            {\n",
        "                \"date\": current_date,\n",
        "                \"year\": current_date.year,\n",
        "                \"month\": current_date.month,\n",
        "                \"day\": current_date.day\n",
        "            })\n",
        "        # Move to the next day\n",
        "        current_date += dt.timedelta(days=1)\n",
        "\n",
        "    return dates"
      ],
      "outputs": [],
      "execution_count": 7,
      "metadata": {
        "microsoft": {
          "language": "python",
          "language_group": "synapse_pyspark"
        }
      },
      "id": "faef17f9-b6e2-45b7-bd1e-0c9b6008665b"
    },
    {
      "cell_type": "code",
      "source": [
        "# Clean Silver table\n",
        "try:\n",
        "    query = \"DELETE FROM \" + silver_table_name\n",
        "    spark.sql(query)\n",
        "\n",
        "except Exception as ex:\n",
        "    print(\"Silver table doesn't exist yet.\") "
      ],
      "outputs": [],
      "execution_count": 8,
      "metadata": {
        "microsoft": {
          "language": "python",
          "language_group": "synapse_pyspark"
        }
      },
      "id": "d1ecced1-882a-4d74-9697-b17c5735273b"
    },
    {
      "cell_type": "code",
      "source": [
        "# Iterate capacities and days\n",
        "for cap in capacities.collect():\n",
        "    capacity_id = cap[0]\n",
        "    \n",
        "    print(f\"INFO: Scoped CapacityId: {capacity_id}\")\n",
        "\n",
        "    try:\n",
        "        # Get today's date\n",
        "        today = datetime.now()\n",
        "\n",
        "        # Calculate the dates between today and days_in_scope\n",
        "        days_ago = today - timedelta(days=metric_days_in_scope)\n",
        "\n",
        "        # Format dates in 'yyyy-mm-dd'\n",
        "        today_str = today.strftime('%Y-%m-%d')\n",
        "        days_ago_str = days_ago.strftime('%Y-%m-%d')\n",
        "\n",
        "        date_array = iterate_dates(days_ago_str, end_date=today_str)\n",
        "\n",
        "        # Iterate days for current capacity\n",
        "        for date in date_array:\n",
        "\n",
        "            year = date['year']\n",
        "            month = date['month']\n",
        "            day = date['day']\n",
        "            date_label = str(year) + '-' + str(month) + '-' + str(day)\n",
        "            print(f\"INFO: Get data for CapacityId: {capacity_id}\")\n",
        "\n",
        "            dax_query_v44 = f\"\"\" DEFINE \n",
        "                    MPARAMETER 'CapacitiesList' = {{\\\"{capacity_id}\\\"}}\n",
        "\n",
        "                    VAR __DS0FilterTable = \n",
        "                                        FILTER(\n",
        "                                            KEEPFILTERS(VALUES('Metrics By Item Operation And Day'[Date])),\n",
        "                                            'Metrics By Item Operation And Day'[Date] = DATE({year}, {month}, {day})\n",
        "                                        )\n",
        "\n",
        "                    VAR __DS0Core = \n",
        "                                    SUMMARIZECOLUMNS(\n",
        "                                            'Metrics By Item Operation And Day'[Capacity Id],\n",
        "                                            'Metrics By Item Operation And Day'[Workspace Id],\n",
        "                                            'Metrics By Item Operation And Day'[Date],\n",
        "                                            'Items'[Item Kind],\n",
        "                                            FILTER(Capacities, Capacities[capacity Id] =  \\\"{capacity_id}\\\" ),\n",
        "                                            __DS0FilterTable,\n",
        "\t\t\t\t\t\t\t\t\t\t\t\"S_Dur\", SUM('Metrics By Item Operation And Day'[Duration (s)]),\n",
        "\t\t\t\t\t\t\t\t\t\t\t\"S_CU\", SUM('Metrics By Item Operation And Day'[CU (s)]),\n",
        "\t\t\t\t\t\t\t\t\t\t\t\"TH_M\", SUM('Metrics By Item Operation And Day'[Throttling (min)]),\n",
        "\t\t\t\t\t\t\t\t\t\t\t\"C_U\", SUM('Metrics By Item Operation And Day'[Users]),\n",
        "\t\t\t\t\t\t\t\t\t\t\t\"C_SO\", SUM('Metrics By Item Operation And Day'[Successful operations]),\n",
        "\t\t\t\t\t\t\t\t\t\t\t\"C_RO\", SUM('Metrics By Item Operation And Day'[Rejected operations]),\n",
        "\t\t\t\t\t\t\t\t\t\t\t\"C_O\", SUM('Metrics By Item Operation And Day'[Operations]),\n",
        "\t\t\t\t\t\t\t\t\t\t\t\"C_IO\", SUM('Metrics By Item Operation And Day'[Invalid operations]),\n",
        "\t\t\t\t\t\t\t\t\t\t\t\"C_FO\", SUM('Metrics By Item Operation And Day'[Failed operations]),\n",
        "\t\t\t\t\t\t\t\t\t\t\t\"C_CO\", SUM('Metrics By Item Operation And Day'[Cancelled operations])\n",
        "                                            )\n",
        "                    EVALUATE\n",
        "                        ADDCOLUMNS(\n",
        "                            FILTER(__DS0Core, [S_CU] > 0),\n",
        "                            \"DateKey\", FORMAT([Date], \"yyyymmdd\")\n",
        "                        ) ORDER BY [S_CU] DESC  \"\"\"\n",
        "\n",
        "            dax_query_v40 = f\"\"\"\n",
        "                 DEFINE \n",
        "                    MPARAMETER 'CapacityID' = \\\"{capacity_id}\\\"\n",
        "\n",
        "                    VAR __DS0FilterTable = \n",
        "                                        FILTER(\n",
        "                                            KEEPFILTERS(VALUES('Metrics By Item Operation And Day'[Date])),\n",
        "                                            'Metrics By Item Operation And Day'[Date] = DATE({year}, {month}, {day})\n",
        "                                        )\n",
        "\n",
        "                    VAR __DS0Core = \n",
        "                                    SUMMARIZECOLUMNS(\n",
        "                                            'Metrics By Item Operation And Day'[Capacity Id],\n",
        "                                            'Metrics By Item Operation And Day'[Workspace Id],\n",
        "                                            'Metrics By Item Operation And Day'[Date],\n",
        "                                            'Items'[Item Kind],\n",
        "                                            FILTER(Capacities, Capacities[Capacity Id] = \\\"{capacity_id}\\\"  ),\n",
        "                                            __DS0FilterTable,\n",
        "\t\t\t\t\t\t\t\t\t\t\t\"S_Dur\", SUM('Metrics By Item Operation And Day'[Duration (s)]),\n",
        "\t\t\t\t\t\t\t\t\t\t\t\"S_CU\", SUM('Metrics By Item Operation And Day'[CU (s)]),\n",
        "\t\t\t\t\t\t\t\t\t\t\t\"TH_M\", SUM('Metrics By Item Operation And Day'[Throttling (min)]),\n",
        "\t\t\t\t\t\t\t\t\t\t\t\"C_U\", SUM('Metrics By Item Operation And Day'[Users]),\n",
        "\t\t\t\t\t\t\t\t\t\t\t\"C_SO\", SUM('Metrics By Item Operation And Day'[Successful operations]),\n",
        "\t\t\t\t\t\t\t\t\t\t\t\"C_RO\", SUM('Metrics By Item Operation And Day'[Rejected operations]),\n",
        "\t\t\t\t\t\t\t\t\t\t\t\"C_O\", SUM('Metrics By Item Operation And Day'[Operations]),\n",
        "\t\t\t\t\t\t\t\t\t\t\t\"C_IO\", SUM('Metrics By Item Operation And Day'[Invalid operations]),\n",
        "\t\t\t\t\t\t\t\t\t\t\t\"C_FO\", SUM('Metrics By Item Operation And Day'[Failed operations]),\n",
        "\t\t\t\t\t\t\t\t\t\t\t\"C_CO\", SUM('Metrics By Item Operation And Day'[Cancelled operations])\n",
        "                                            )\n",
        "                    EVALUATE\n",
        "                        ADDCOLUMNS(\n",
        "                            FILTER(__DS0Core, [S_CU] > 0),\n",
        "                            \"DateKey\", FORMAT([Date], \"yyyymmdd\")\n",
        "                        ) ORDER BY [S_CU] DESC \n",
        "                    \"\"\"\n",
        "\n",
        "\n",
        "            dax_query_v37 = f\"\"\"\n",
        "                DEFINE \n",
        "                    MPARAMETER 'CapacityID' = \\\"{capacity_id}\\\"\n",
        "\n",
        "                    VAR __DS0FilterTable = \n",
        "                                        FILTER(\n",
        "                                            KEEPFILTERS(VALUES('MetricsByItemandDay'[Date])),\n",
        "                                            'MetricsByItemandDay'[Date] = DATE({year}, {month}, {day})\n",
        "                                        )\n",
        "\n",
        "                    VAR __DS0Core = \n",
        "                                    SUMMARIZECOLUMNS(\n",
        "                                            Capacities[capacityId],\n",
        "                                            Items[WorkspaceId],\n",
        "                                            'MetricsByItemandDay'[Date],\n",
        "                                            'Items'[ItemKind],\n",
        "                                            FILTER(Capacities, Capacities[capacityId] = \\\"{capacity_id}\\\" ),\n",
        "                                            __DS0FilterTable,\n",
        "                                            \"S_Dur\", SUM('MetricsByItemandDay'[sum_duration]),\n",
        "                                            \"S_CU\", SUM('MetricsByItemandDay'[sum_CU]),\n",
        "                                            \"TH_M\", SUM('MetricsByItemandDay'[Throttling (min)]),\n",
        "                                            \"C_U\", SUM('MetricsByItemandDay'[count_users]),\n",
        "                                            \"C_SO\", SUM('MetricsByItemandDay'[count_successful_operations]),\n",
        "                                            \"C_RO\", SUM('MetricsByItemandDay'[count_rejected_operations]),\n",
        "                                            \"C_O\", SUM('MetricsByItemandDay'[count_operations]),\n",
        "                                            \"C_IO\", SUM('MetricsByItemandDay'[count_Invalid_operations]),\n",
        "                                            \"C_FO\", SUM('MetricsByItemandDay'[count_failure_operations]),\n",
        "                                            \"C_CO\", SUM('MetricsByItemandDay'[count_cancelled_operations])\n",
        "                                            )\n",
        "                    EVALUATE\n",
        "                        ADDCOLUMNS(\n",
        "                            FILTER(__DS0Core, [S_CU] > 0),\n",
        "                            \"DateKey\", FORMAT([Date], \"yyyymmdd\")\n",
        "                        ) ORDER BY [S_CU] DESC\n",
        "                    \"\"\"\n",
        "\n",
        "            dax_query = \"\"\n",
        "            # Choose query\n",
        "            if version == 'v44':\n",
        "                dax_query = dax_query_v44\n",
        "            elif version == 'v40':\n",
        "                dax_query = dax_query_v40\n",
        "            elif version == 'v37':\n",
        "                dax_query = dax_query_v37\n",
        "\n",
        "           \n",
        "            \n",
        "            # Execute DAX query\n",
        "            capacity_df = fabric.evaluate_dax(workspace=metric_workspace, dataset=metric_dataset, dax_string=dax_query)\n",
        "            capacity_df.columns = ['CapacityId', 'WorkspaceId', 'Date',  \n",
        "                                    'ItemKind', 'DurationInSec','TotalCUs', 'ThrottlingInMin', \n",
        "                                    'UserCount','SuccessOperationCount', 'RejectedOperationCount','OperationCount',\n",
        "                                    'InvalidOperationCount','FailureOperationCount','CancelledOperationCount', 'DateKey']\n",
        "            \n",
        "            if not(capacity_df.empty):\n",
        "                # Transfer pandas df to spark df\n",
        "                capacity_df = spark.createDataFrame(capacity_df)\n",
        "                \n",
        "                if display_data:\n",
        "                    display(capacity_df)\n",
        "\n",
        "                # Write prepared bronze_df to silver delta table\n",
        "                print(f\"INFO: Appending data. Capacity: {capacity_id} on Date: {date_label}\")\n",
        "                capacity_df.write.mode(\"append\").option(\"mergeSchema\", \"true\").format(\"delta\").saveAsTable(silver_table_name)\n",
        "            else:\n",
        "                print(f\"INFO: No data for CapacityId: {capacity_id} on Date: {date_label}\")\n",
        "\n",
        "    except Exception as ex:\n",
        "        print('ERROR: Exception for CapacityId: ' + capacity_id + '. ->' + str(ex))\n",
        "        continue"
      ],
      "outputs": [],
      "execution_count": 9,
      "metadata": {
        "microsoft": {
          "language": "python",
          "language_group": "synapse_pyspark"
        },
        "collapsed": false
      },
      "id": "90d5f440-4785-4801-931b-6d798b2ec02b"
    },
    {
      "cell_type": "code",
      "source": [
        "# Get Silver table data\n",
        "query = \"SELECT * FROM \" + silver_table_name\n",
        "silver_df = spark.sql(query)"
      ],
      "outputs": [],
      "execution_count": 10,
      "metadata": {
        "microsoft": {
          "language": "python",
          "language_group": "synapse_pyspark"
        }
      },
      "id": "7d1705fe-8449-4b56-b0b9-fce5acf31cb8"
    },
    {
      "cell_type": "code",
      "source": [
        "# Check if gold table exists\n",
        "if spark._jsparkSession.catalog().tableExists('FUAM_Lakehouse', gold_table_name):\n",
        "    # if exists -> MERGE to gold\n",
        "    print(\"INFO: Gold table exists and will be merged.\")\n",
        "\n",
        "    gold_df = DeltaTable.forPath(spark, gold_table_name_with_prefix)\n",
        "    # Merge silver (s = source) to gold (t = target)\n",
        "    gold_df.alias('t') \\\n",
        "    .merge(\n",
        "        silver_df.alias('s'),\n",
        "        \"s.CapacityId = t.CapacityId AND s.WorkspaceId = t.WorkspaceId AND s.Date = t.Date AND s.ItemKind = t.ItemKind\"\n",
        "    ) \\\n",
        "    .whenMatchedUpdate(set =\n",
        "        {\n",
        "             \"DurationInSec\": \"s.DurationInSec\"\n",
        "            ,\"TotalCUs\": \"s.TotalCUs\"\n",
        "            ,\"ThrottlingInMin\": \"s.ThrottlingInMin\"\n",
        "            ,\"UserCount\": \"s.UserCount\"\n",
        "            ,\"SuccessOperationCount\": \"s.SuccessOperationCount\"\n",
        "            ,\"RejectedOperationCount\": \"s.RejectedOperationCount\"\n",
        "            ,\"OperationCount\": \"s.OperationCount\"\n",
        "            ,\"InvalidOperationCount\": \"s.InvalidOperationCount\"\n",
        "            ,\"FailureOperationCount\": \"s.FailureOperationCount\"\n",
        "            ,\"CancelledOperationCount\": \"s.CancelledOperationCount\"\n",
        "        }\n",
        "    ) \\\n",
        "    .whenNotMatchedInsert(values =\n",
        "        {\n",
        "             \"CapacityId\": \"s.CapacityId\"\n",
        "            ,\"WorkspaceId\": \"s.WorkspaceId\"\n",
        "            ,\"Date\": \"s.Date\"\n",
        "            ,\"ItemKind\": \"s.ItemKind\"\n",
        "            ,\"DurationInSec\": \"s.DurationInSec\"\n",
        "            ,\"TotalCUs\": \"s.TotalCUs\"\n",
        "            ,\"ThrottlingInMin\": \"s.ThrottlingInMin\"\n",
        "            ,\"UserCount\": \"s.UserCount\"\n",
        "            ,\"SuccessOperationCount\": \"s.SuccessOperationCount\"\n",
        "            ,\"RejectedOperationCount\": \"s.RejectedOperationCount\"\n",
        "            ,\"OperationCount\": \"s.OperationCount\"\n",
        "            ,\"InvalidOperationCount\": \"s.InvalidOperationCount\"\n",
        "            ,\"FailureOperationCount\": \"s.FailureOperationCount\"\n",
        "            ,\"CancelledOperationCount\": \"s.CancelledOperationCount\"\n",
        "            ,\"DateKey\": \"s.DateKey\"\n",
        "        }\n",
        "    ) \\\n",
        "    .execute()\n",
        "\n",
        "else:\n",
        "    # else -> INSERT to gold\n",
        "    print(\"INFO: Gold table will be created.\")\n",
        "\n",
        "    silver_df.write.mode(\"append\").option(\"mergeSchema\", \"true\").format(\"delta\").saveAsTable(gold_table_name)"
      ],
      "outputs": [],
      "execution_count": 11,
      "metadata": {
        "microsoft": {
          "language": "python",
          "language_group": "synapse_pyspark"
        }
      },
      "id": "aa41bad9-299c-44b9-a0c9-768a7f92a166"
    },
    {
      "cell_type": "code",
      "source": [
        "# Clean Silver table\n",
        "query = \"DELETE FROM \" + silver_table_name\n",
        "spark.sql(query)"
      ],
      "outputs": [],
      "execution_count": 12,
      "metadata": {
        "microsoft": {
          "language": "python",
          "language_group": "synapse_pyspark"
        }
      },
      "id": "8de99e60-3b24-41f0-a84e-72b8c0af289a"
    }
  ],
  "metadata": {
    "language_info": {
      "name": "python"
    },
    "kernel_info": {
      "name": "synapse_pyspark"
    },
    "a365ComputeOptions": null,
    "sessionKeepAliveTimeout": 0,
    "microsoft": {
      "language": "python",
      "language_group": "synapse_pyspark",
      "ms_spell_check": {
        "ms_spell_check_language": "en"
      }
    },
    "nteract": {
      "version": "nteract-front-end@1.0.0"
    },
    "synapse_widget": {
      "version": "0.1",
      "state": {
        "0480d4de-59d7-4e05-8076-b50e302d4ecc": {
          "type": "Synapse.DataFrame",
          "sync_state": {
            "table": {
              "rows": [
                {
                  "0": "30A4F9CD-088E-431A-AC98-9673650086BD",
                  "1": "Suspended"
                },
                {
                  "0": "97D6E4E5-B937-4125-905A-1B86D01D3E97",
                  "1": "Suspended"
                },
                {
                  "0": "C37B34DC-7F7A-4A14-95EF-9575FFB2FBF2",
                  "1": "Active"
                },
                {
                  "0": "AFCA725A-7892-4D30-B80B-A4F4E3CD1A8D",
                  "1": "Active"
                }
              ],
              "schema": [
                {
                  "key": "0",
                  "name": "CapacityId",
                  "type": "string"
                },
                {
                  "key": "1",
                  "name": "State",
                  "type": "string"
                }
              ],
              "truncated": false
            },
            "isSummary": false,
            "language": "scala",
            "wranglerEntryContext": {
              "candidateVariableNames": [
                "capacities"
              ],
              "dataframeType": "pyspark"
            }
          },
          "persist_state": {
            "view": {
              "type": "details",
              "tableOptions": {},
              "chartOptions": {
                "chartType": "bar",
                "categoryFieldKeys": [],
                "seriesFieldKeys": [],
                "aggregationType": "sum",
                "isStacked": false,
                "binsNumber": 10,
                "wordFrequency": "-1"
              },
              "viewOptionsGroup": [
                {
                  "tabItems": [
                    {
                      "type": "table",
                      "name": "Table",
                      "key": "0",
                      "options": {}
                    }
                  ]
                }
              ]
            }
          }
        },
        "4f886af5-7d8a-45e5-9c0b-a714a02a7572": {
          "type": "Synapse.DataFrame",
          "sync_state": {
            "table": {
              "rows": [
                {
                  "0": "97D6E4E5-B937-4125-905A-1B86D01D3E97",
                  "1": "BB3BF04E-5364-4045-BE4D-2F8AC740FB1A",
                  "2": "2025-08-22 00:00:00",
                  "3": "Warehouse",
                  "4": "81.276",
                  "5": "395.952",
                  "6": "0.0",
                  "7": "3",
                  "8": "63",
                  "9": "0",
                  "10": "63",
                  "11": "0",
                  "12": "0",
                  "13": "0",
                  "14": "20250822"
                },
                {
                  "0": "97D6E4E5-B937-4125-905A-1B86D01D3E97",
                  "1": "BB3BF04E-5364-4045-BE4D-2F8AC740FB1A",
                  "2": "2025-08-22 00:00:00",
                  "3": "Lakehouse",
                  "4": "1.116",
                  "5": "108.79179999999972",
                  "6": "0.0",
                  "7": "7",
                  "8": "1116",
                  "9": "0",
                  "10": "1116",
                  "11": "0",
                  "12": "0",
                  "13": "0",
                  "14": "20250822"
                },
                {
                  "0": "97D6E4E5-B937-4125-905A-1B86D01D3E97",
                  "1": "BB3BF04E-5364-4045-BE4D-2F8AC740FB1A",
                  "2": "2025-08-22 00:00:00",
                  "3": "Dataset",
                  "4": "35.753",
                  "5": "24.095999999999997",
                  "6": "0.0",
                  "7": "6",
                  "8": "22",
                  "9": "0",
                  "10": "22",
                  "11": "0",
                  "12": "0",
                  "13": "0",
                  "14": "20250822"
                }
              ],
              "schema": [
                {
                  "key": "0",
                  "name": "CapacityId",
                  "type": "string"
                },
                {
                  "key": "1",
                  "name": "WorkspaceId",
                  "type": "string"
                },
                {
                  "key": "2",
                  "name": "Date",
                  "type": "timestamp"
                },
                {
                  "key": "3",
                  "name": "ItemKind",
                  "type": "string"
                },
                {
                  "key": "4",
                  "name": "DurationInSec",
                  "type": "double"
                },
                {
                  "key": "5",
                  "name": "TotalCUs",
                  "type": "double"
                },
                {
                  "key": "6",
                  "name": "ThrottlingInMin",
                  "type": "double"
                },
                {
                  "key": "7",
                  "name": "UserCount",
                  "type": "bigint"
                },
                {
                  "key": "8",
                  "name": "SuccessOperationCount",
                  "type": "bigint"
                },
                {
                  "key": "9",
                  "name": "RejectedOperationCount",
                  "type": "bigint"
                },
                {
                  "key": "10",
                  "name": "OperationCount",
                  "type": "bigint"
                },
                {
                  "key": "11",
                  "name": "InvalidOperationCount",
                  "type": "bigint"
                },
                {
                  "key": "12",
                  "name": "FailureOperationCount",
                  "type": "bigint"
                },
                {
                  "key": "13",
                  "name": "CancelledOperationCount",
                  "type": "bigint"
                },
                {
                  "key": "14",
                  "name": "DateKey",
                  "type": "string"
                }
              ],
              "truncated": false
            },
            "isSummary": false,
            "language": "scala",
            "wranglerEntryContext": {
              "candidateVariableNames": [
                "capacity_df"
              ],
              "dataframeType": "pyspark"
            }
          },
          "persist_state": {
            "view": {
              "type": "details",
              "tableOptions": {},
              "chartOptions": {
                "chartType": "bar",
                "categoryFieldKeys": [],
                "seriesFieldKeys": [],
                "aggregationType": "sum",
                "isStacked": false,
                "binsNumber": 10,
                "wordFrequency": "-1"
              },
              "viewOptionsGroup": [
                {
                  "tabItems": [
                    {
                      "type": "table",
                      "name": "Table",
                      "key": "0",
                      "options": {}
                    }
                  ]
                }
              ]
            }
          }
        },
        "25ceff54-eb3b-4eac-86a5-9ef915b16f78": {
          "type": "Synapse.DataFrame",
          "sync_state": {
            "table": {
              "rows": [
                {
                  "0": "C37B34DC-7F7A-4A14-95EF-9575FFB2FBF2",
                  "1": "1F8631F1-BA1A-4154-921E-6D3919BB51FD",
                  "2": "2025-08-22 00:00:00",
                  "3": "EventStream",
                  "4": "2361600.0",
                  "5": "12390.192762400211",
                  "6": "0.0",
                  "7": "40",
                  "8": "40",
                  "9": "0",
                  "10": "40",
                  "11": "0",
                  "12": "0",
                  "13": "0",
                  "14": "20250822"
                },
                {
                  "0": "C37B34DC-7F7A-4A14-95EF-9575FFB2FBF2",
                  "1": "7F183A0B-140A-47A9-BD68-1AF8CF331461",
                  "2": "2025-08-22 00:00:00",
                  "3": "Dataset",
                  "4": "1667.03",
                  "5": "7454.096",
                  "6": "0.0",
                  "7": "8",
                  "8": "310",
                  "9": "0",
                  "10": "380",
                  "11": "0",
                  "12": "70",
                  "13": "0",
                  "14": "20250822"
                },
                {
                  "0": "C37B34DC-7F7A-4A14-95EF-9575FFB2FBF2",
                  "1": "974679E1-40F7-4724-A400-BEAC1C83C697",
                  "2": "2025-08-22 00:00:00",
                  "3": "VNet Data Gateway",
                  "4": "1810.708",
                  "5": "7242.847050799999",
                  "6": "0.0026666666666666666",
                  "7": "1",
                  "8": "8",
                  "9": "0",
                  "10": "8",
                  "11": "0",
                  "12": "0",
                  "13": "0",
                  "14": "20250822"
                },
                {
                  "0": "C37B34DC-7F7A-4A14-95EF-9575FFB2FBF2",
                  "1": "64050F56-5D1D-4C36-AE76-323378B6AED8",
                  "2": "2025-08-22 00:00:00",
                  "3": "Dataset",
                  "4": "1127.4550000000002",
                  "5": "6454.64",
                  "6": "4.666666666666667",
                  "7": "6",
                  "8": "276",
                  "9": "0",
                  "10": "282",
                  "11": "0",
                  "12": "6",
                  "13": "0",
                  "14": "20250822"
                },
                {
                  "0": "C37B34DC-7F7A-4A14-95EF-9575FFB2FBF2",
                  "1": "BB3BF04E-5364-4045-BE4D-2F8AC740FB1A",
                  "2": "2025-08-22 00:00:00",
                  "3": "SynapseNotebook",
                  "4": "1612.722",
                  "5": "6450.9415",
                  "6": "0.0",
                  "7": "1",
                  "8": "0",
                  "9": "0",
                  "10": "1",
                  "11": "0",
                  "12": "1",
                  "13": "0",
                  "14": "20250822"
                },
                {
                  "0": "C37B34DC-7F7A-4A14-95EF-9575FFB2FBF2",
                  "1": "1F8631F1-BA1A-4154-921E-6D3919BB51FD",
                  "2": "2025-08-22 00:00:00",
                  "3": "KustoEventHouse",
                  "4": "4500.0",
                  "5": "5625.0",
                  "6": "0.0",
                  "7": "1",
                  "8": "75",
                  "9": "0",
                  "10": "75",
                  "11": "0",
                  "12": "0",
                  "13": "0",
                  "14": "20250822"
                },
                {
                  "0": "C37B34DC-7F7A-4A14-95EF-9575FFB2FBF2",
                  "1": "1F8631F1-BA1A-4154-921E-6D3919BB51FD",
                  "2": "2025-08-22 00:00:00",
                  "3": "Activator",
                  "4": "171000.0",
                  "5": "3796.2000000000003",
                  "6": "0.0",
                  "7": "2",
                  "8": "3",
                  "9": "0",
                  "10": "3",
                  "11": "0",
                  "12": "0",
                  "13": "0",
                  "14": "20250822"
                },
                {
                  "0": "C37B34DC-7F7A-4A14-95EF-9575FFB2FBF2",
                  "1": "502FC901-A00D-4BA7-8A8D-F5F1CCA0C6A6",
                  "2": "2025-08-22 00:00:00",
                  "3": "Activator",
                  "4": "57000.0",
                  "5": "1265.4",
                  "6": "0.0",
                  "7": "1",
                  "8": "1",
                  "9": "0",
                  "10": "1",
                  "11": "0",
                  "12": "0",
                  "13": "0",
                  "14": "20250822"
                },
                {
                  "0": "C37B34DC-7F7A-4A14-95EF-9575FFB2FBF2",
                  "1": "4AF86E5D-5B9A-42C0-9491-A80242A15A34",
                  "2": "2025-08-22 00:00:00",
                  "3": "SynapseNotebook",
                  "4": "241.493",
                  "5": "965.992",
                  "6": "0.0",
                  "7": "1",
                  "8": "0",
                  "9": "0",
                  "10": "3",
                  "11": "0",
                  "12": "0",
                  "13": "3",
                  "14": "20250822"
                },
                {
                  "0": "C37B34DC-7F7A-4A14-95EF-9575FFB2FBF2",
                  "1": "2AD70867-1E57-4C21-A67C-406D982786BC",
                  "2": "2025-08-22 00:00:00",
                  "3": "SynapseNotebook",
                  "4": "90.539",
                  "5": "362.1605",
                  "6": "0.0",
                  "7": "1",
                  "8": "0",
                  "9": "0",
                  "10": "1",
                  "11": "0",
                  "12": "0",
                  "13": "1",
                  "14": "20250822"
                },
                {
                  "0": "C37B34DC-7F7A-4A14-95EF-9575FFB2FBF2",
                  "1": "43E58404-650A-4FD3-B6E6-E3E0039E4A7E",
                  "2": "2025-08-22 00:00:00",
                  "3": "Dataset",
                  "4": "91.026",
                  "5": "342.848",
                  "6": "0.0",
                  "7": "3",
                  "8": "30",
                  "9": "0",
                  "10": "33",
                  "11": "0",
                  "12": "3",
                  "13": "0",
                  "14": "20250822"
                },
                {
                  "0": "C37B34DC-7F7A-4A14-95EF-9575FFB2FBF2",
                  "1": "4AF86E5D-5B9A-42C0-9491-A80242A15A34",
                  "2": "2025-08-22 00:00:00",
                  "3": "Pipeline",
                  "4": "548.227",
                  "5": "330.48",
                  "6": "0.0",
                  "7": "2",
                  "8": "6",
                  "9": "0",
                  "10": "6",
                  "11": "0",
                  "12": "0",
                  "13": "0",
                  "14": "20250822"
                },
                {
                  "0": "C37B34DC-7F7A-4A14-95EF-9575FFB2FBF2",
                  "1": "4AF86E5D-5B9A-42C0-9491-A80242A15A34",
                  "2": "2025-08-22 00:00:00",
                  "3": "Lakehouse",
                  "4": "0.9369999999999999",
                  "5": "303.4368000000005",
                  "6": "0.0",
                  "7": "7",
                  "8": "937",
                  "9": "0",
                  "10": "937",
                  "11": "0",
                  "12": "0",
                  "13": "0",
                  "14": "20250822"
                },
                {
                  "0": "C37B34DC-7F7A-4A14-95EF-9575FFB2FBF2",
                  "1": "5D693BBA-CD91-4644-9E10-4D0A1F17E2F5",
                  "2": "2025-08-22 00:00:00",
                  "3": "KustoEventHouse",
                  "4": "180.0",
                  "5": "225.0",
                  "6": "0.0",
                  "7": "1",
                  "8": "3",
                  "9": "0",
                  "10": "3",
                  "11": "0",
                  "12": "0",
                  "13": "0",
                  "14": "20250822"
                },
                {
                  "0": "C37B34DC-7F7A-4A14-95EF-9575FFB2FBF2",
                  "1": "C3B2A9B2-D438-410E-B7C5-B12C1E78A078",
                  "2": "2025-08-22 00:00:00",
                  "3": "Dataset",
                  "4": "148.737",
                  "5": "157.47200000000004",
                  "6": "0.0",
                  "7": "19",
                  "8": "232",
                  "9": "0",
                  "10": "232",
                  "11": "0",
                  "12": "0",
                  "13": "0",
                  "14": "20250822"
                },
                {
                  "0": "C37B34DC-7F7A-4A14-95EF-9575FFB2FBF2",
                  "1": "2AD70867-1E57-4C21-A67C-406D982786BC",
                  "2": "2025-08-22 00:00:00",
                  "3": "Lakehouse",
                  "4": "1.46",
                  "5": "153.73100000000002",
                  "6": "0.0",
                  "7": "28",
                  "8": "1460",
                  "9": "0",
                  "10": "1460",
                  "11": "0",
                  "12": "0",
                  "13": "0",
                  "14": "20250822"
                },
                {
                  "0": "C37B34DC-7F7A-4A14-95EF-9575FFB2FBF2",
                  "1": "2AD70867-1E57-4C21-A67C-406D982786BC",
                  "2": "2025-08-22 00:00:00",
                  "3": "KustoEventHouse",
                  "4": "60.0",
                  "5": "75.0",
                  "6": "0.0",
                  "7": "1",
                  "8": "1",
                  "9": "0",
                  "10": "1",
                  "11": "0",
                  "12": "0",
                  "13": "0",
                  "14": "20250822"
                },
                {
                  "0": "C37B34DC-7F7A-4A14-95EF-9575FFB2FBF2",
                  "1": "41639998-20D2-4105-96B6-734EDD4FA5D5",
                  "2": "2025-08-22 00:00:00",
                  "3": "Dataset",
                  "4": "6.739",
                  "5": "66.544",
                  "6": "0.0",
                  "7": "2",
                  "8": "15",
                  "9": "0",
                  "10": "15",
                  "11": "0",
                  "12": "0",
                  "13": "0",
                  "14": "20250822"
                },
                {
                  "0": "C37B34DC-7F7A-4A14-95EF-9575FFB2FBF2",
                  "1": "2AD70867-1E57-4C21-A67C-406D982786BC",
                  "2": "2025-08-22 00:00:00",
                  "3": "Warehouse",
                  "4": "15.775",
                  "5": "44.111999999999995",
                  "6": "0.0",
                  "7": "4",
                  "8": "144",
                  "9": "0",
                  "10": "144",
                  "11": "0",
                  "12": "0",
                  "13": "0",
                  "14": "20250822"
                },
                {
                  "0": "C37B34DC-7F7A-4A14-95EF-9575FFB2FBF2",
                  "1": "1F8631F1-BA1A-4154-921E-6D3919BB51FD",
                  "2": "2025-08-22 00:00:00",
                  "3": "Dataset",
                  "4": "5.784",
                  "5": "42.992",
                  "6": "0.3333333333333333",
                  "7": "2",
                  "8": "44",
                  "9": "0",
                  "10": "60",
                  "11": "0",
                  "12": "16",
                  "13": "0",
                  "14": "20250822"
                },
                {
                  "0": "C37B34DC-7F7A-4A14-95EF-9575FFB2FBF2",
                  "1": "C3B2A9B2-D438-410E-B7C5-B12C1E78A078",
                  "2": "2025-08-22 00:00:00",
                  "3": "Lakehouse",
                  "4": "0.252",
                  "5": "37.07199999999998",
                  "6": "0.0",
                  "7": "7",
                  "8": "252",
                  "9": "0",
                  "10": "252",
                  "11": "0",
                  "12": "0",
                  "13": "0",
                  "14": "20250822"
                },
                {
                  "0": "C37B34DC-7F7A-4A14-95EF-9575FFB2FBF2",
                  "1": "C3B2A9B2-D438-410E-B7C5-B12C1E78A078",
                  "2": "2025-08-22 00:00:00",
                  "3": "Warehouse",
                  "4": "8.08",
                  "5": "29.156",
                  "6": "0.0",
                  "7": "1",
                  "8": "39",
                  "9": "0",
                  "10": "39",
                  "11": "0",
                  "12": "0",
                  "13": "0",
                  "14": "20250822"
                },
                {
                  "0": "C37B34DC-7F7A-4A14-95EF-9575FFB2FBF2",
                  "1": "A2352B3A-5CF3-4F27-85E8-C0B22347BAE0",
                  "2": "2025-08-22 00:00:00",
                  "3": "Dataset",
                  "4": "3.109",
                  "5": "29.008",
                  "6": "0.0",
                  "7": "2",
                  "8": "3",
                  "9": "0",
                  "10": "3",
                  "11": "0",
                  "12": "0",
                  "13": "0",
                  "14": "20250822"
                },
                {
                  "0": "C37B34DC-7F7A-4A14-95EF-9575FFB2FBF2",
                  "1": "36A534D3-67FF-46E1-8C66-FB37EEFBCDA4",
                  "2": "2025-08-22 00:00:00",
                  "3": "Dataset",
                  "4": "3.524",
                  "5": "28.656",
                  "6": "0.0",
                  "7": "1",
                  "8": "36",
                  "9": "0",
                  "10": "37",
                  "11": "0",
                  "12": "1",
                  "13": "0",
                  "14": "20250822"
                },
                {
                  "0": "C37B34DC-7F7A-4A14-95EF-9575FFB2FBF2",
                  "1": "E4C24CFF-BF7B-4B68-B86C-2A0422354F37",
                  "2": "2025-08-22 00:00:00",
                  "3": "Dataset",
                  "4": "10.102",
                  "5": "27.408",
                  "6": "0.0",
                  "7": "10",
                  "8": "52",
                  "9": "0",
                  "10": "52",
                  "11": "0",
                  "12": "0",
                  "13": "0",
                  "14": "20250822"
                },
                {
                  "0": "C37B34DC-7F7A-4A14-95EF-9575FFB2FBF2",
                  "1": "789464D5-E6BF-43D1-96CB-6BE6C0E564CE",
                  "2": "2025-08-22 00:00:00",
                  "3": "DataflowFabric",
                  "4": "0.011",
                  "5": "1.384",
                  "6": "0.0",
                  "7": "3",
                  "8": "11",
                  "9": "0",
                  "10": "11",
                  "11": "0",
                  "12": "0",
                  "13": "0",
                  "14": "20250822"
                },
                {
                  "0": "C37B34DC-7F7A-4A14-95EF-9575FFB2FBF2",
                  "1": "789464D5-E6BF-43D1-96CB-6BE6C0E564CE",
                  "2": "2025-08-22 00:00:00",
                  "3": "Lakehouse",
                  "4": "0.009000000000000001",
                  "5": "0.6022000000000001",
                  "6": "0.0",
                  "7": "5",
                  "8": "9",
                  "9": "0",
                  "10": "9",
                  "11": "0",
                  "12": "0",
                  "13": "0",
                  "14": "20250822"
                },
                {
                  "0": "C37B34DC-7F7A-4A14-95EF-9575FFB2FBF2",
                  "1": "1F8631F1-BA1A-4154-921E-6D3919BB51FD",
                  "2": "2025-08-22 00:00:00",
                  "3": "DataflowFabric",
                  "4": "0.002",
                  "5": "0.0208",
                  "6": "0.0",
                  "7": "1",
                  "8": "2",
                  "9": "0",
                  "10": "2",
                  "11": "0",
                  "12": "0",
                  "13": "0",
                  "14": "20250822"
                }
              ],
              "schema": [
                {
                  "key": "0",
                  "name": "CapacityId",
                  "type": "string"
                },
                {
                  "key": "1",
                  "name": "WorkspaceId",
                  "type": "string"
                },
                {
                  "key": "2",
                  "name": "Date",
                  "type": "timestamp"
                },
                {
                  "key": "3",
                  "name": "ItemKind",
                  "type": "string"
                },
                {
                  "key": "4",
                  "name": "DurationInSec",
                  "type": "double"
                },
                {
                  "key": "5",
                  "name": "TotalCUs",
                  "type": "double"
                },
                {
                  "key": "6",
                  "name": "ThrottlingInMin",
                  "type": "double"
                },
                {
                  "key": "7",
                  "name": "UserCount",
                  "type": "bigint"
                },
                {
                  "key": "8",
                  "name": "SuccessOperationCount",
                  "type": "bigint"
                },
                {
                  "key": "9",
                  "name": "RejectedOperationCount",
                  "type": "bigint"
                },
                {
                  "key": "10",
                  "name": "OperationCount",
                  "type": "bigint"
                },
                {
                  "key": "11",
                  "name": "InvalidOperationCount",
                  "type": "bigint"
                },
                {
                  "key": "12",
                  "name": "FailureOperationCount",
                  "type": "bigint"
                },
                {
                  "key": "13",
                  "name": "CancelledOperationCount",
                  "type": "bigint"
                },
                {
                  "key": "14",
                  "name": "DateKey",
                  "type": "string"
                }
              ],
              "truncated": false
            },
            "isSummary": false,
            "language": "scala",
            "wranglerEntryContext": {
              "candidateVariableNames": [
                "capacity_df"
              ],
              "dataframeType": "pyspark"
            }
          },
          "persist_state": {
            "view": {
              "type": "details",
              "tableOptions": {},
              "chartOptions": {
                "chartType": "bar",
                "categoryFieldKeys": [],
                "seriesFieldKeys": [],
                "aggregationType": "sum",
                "isStacked": false,
                "binsNumber": 10,
                "wordFrequency": "-1"
              },
              "viewOptionsGroup": [
                {
                  "tabItems": [
                    {
                      "type": "table",
                      "name": "Table",
                      "key": "0",
                      "options": {}
                    }
                  ]
                }
              ]
            }
          }
        },
        "3ac78e4a-694a-4200-b749-3101bd0a573f": {
          "type": "Synapse.DataFrame",
          "sync_state": {
            "table": {
              "rows": [
                {
                  "0": "C37B34DC-7F7A-4A14-95EF-9575FFB2FBF2",
                  "1": "1F8631F1-BA1A-4154-921E-6D3919BB51FD",
                  "2": "2025-08-25 00:00:00",
                  "3": "EventStream",
                  "4": "408000.0",
                  "5": "1199.1418055087327",
                  "6": "0.0",
                  "7": "40",
                  "8": "40",
                  "9": "0",
                  "10": "40",
                  "11": "0",
                  "12": "0",
                  "13": "0",
                  "14": "20250825"
                },
                {
                  "0": "C37B34DC-7F7A-4A14-95EF-9575FFB2FBF2",
                  "1": "2AD70867-1E57-4C21-A67C-406D982786BC",
                  "2": "2025-08-25 00:00:00",
                  "3": "Lakehouse",
                  "4": "0.522",
                  "5": "736.3379999999985",
                  "6": "0.0",
                  "7": "28",
                  "8": "522",
                  "9": "0",
                  "10": "522",
                  "11": "0",
                  "12": "0",
                  "13": "0",
                  "14": "20250825"
                },
                {
                  "0": "C37B34DC-7F7A-4A14-95EF-9575FFB2FBF2",
                  "1": "1F8631F1-BA1A-4154-921E-6D3919BB51FD",
                  "2": "2025-08-25 00:00:00",
                  "3": "Activator",
                  "4": "27000.0",
                  "5": "599.4000000000001",
                  "6": "0.0",
                  "7": "2",
                  "8": "3",
                  "9": "0",
                  "10": "3",
                  "11": "0",
                  "12": "0",
                  "13": "0",
                  "14": "20250825"
                },
                {
                  "0": "C37B34DC-7F7A-4A14-95EF-9575FFB2FBF2",
                  "1": "7F183A0B-140A-47A9-BD68-1AF8CF331461",
                  "2": "2025-08-25 00:00:00",
                  "3": "Dataset",
                  "4": "31.095",
                  "5": "265.03999999999996",
                  "6": "0.0",
                  "7": "2",
                  "8": "4",
                  "9": "0",
                  "10": "15",
                  "11": "0",
                  "12": "11",
                  "13": "0",
                  "14": "20250825"
                },
                {
                  "0": "C37B34DC-7F7A-4A14-95EF-9575FFB2FBF2",
                  "1": "502FC901-A00D-4BA7-8A8D-F5F1CCA0C6A6",
                  "2": "2025-08-25 00:00:00",
                  "3": "Activator",
                  "4": "9000.0",
                  "5": "199.8",
                  "6": "0.0",
                  "7": "1",
                  "8": "1",
                  "9": "0",
                  "10": "1",
                  "11": "0",
                  "12": "0",
                  "13": "0",
                  "14": "20250825"
                },
                {
                  "0": "C37B34DC-7F7A-4A14-95EF-9575FFB2FBF2",
                  "1": "2AD70867-1E57-4C21-A67C-406D982786BC",
                  "2": "2025-08-25 00:00:00",
                  "3": "Dataset",
                  "4": "681.025",
                  "5": "127.888",
                  "6": "0.0",
                  "7": "3",
                  "8": "54",
                  "9": "0",
                  "10": "54",
                  "11": "0",
                  "12": "0",
                  "13": "0",
                  "14": "20250825"
                },
                {
                  "0": "C37B34DC-7F7A-4A14-95EF-9575FFB2FBF2",
                  "1": "C3B2A9B2-D438-410E-B7C5-B12C1E78A078",
                  "2": "2025-08-25 00:00:00",
                  "3": "Dataset",
                  "4": "79.047",
                  "5": "108.432",
                  "6": "0.0",
                  "7": "12",
                  "8": "177",
                  "9": "0",
                  "10": "177",
                  "11": "0",
                  "12": "0",
                  "13": "0",
                  "14": "20250825"
                },
                {
                  "0": "C37B34DC-7F7A-4A14-95EF-9575FFB2FBF2",
                  "1": "2AD70867-1E57-4C21-A67C-406D982786BC",
                  "2": "2025-08-25 00:00:00",
                  "3": "Warehouse",
                  "4": "22.899",
                  "5": "58.892",
                  "6": "0.0",
                  "7": "5",
                  "8": "88",
                  "9": "0",
                  "10": "88",
                  "11": "0",
                  "12": "0",
                  "13": "0",
                  "14": "20250825"
                },
                {
                  "0": "C37B34DC-7F7A-4A14-95EF-9575FFB2FBF2",
                  "1": "1F8631F1-BA1A-4154-921E-6D3919BB51FD",
                  "2": "2025-08-25 00:00:00",
                  "3": "Dataset",
                  "4": "2.829",
                  "5": "7.008",
                  "6": "0.0",
                  "7": "2",
                  "8": "7",
                  "9": "0",
                  "10": "9",
                  "11": "0",
                  "12": "2",
                  "13": "0",
                  "14": "20250825"
                }
              ],
              "schema": [
                {
                  "key": "0",
                  "name": "CapacityId",
                  "type": "string"
                },
                {
                  "key": "1",
                  "name": "WorkspaceId",
                  "type": "string"
                },
                {
                  "key": "2",
                  "name": "Date",
                  "type": "timestamp"
                },
                {
                  "key": "3",
                  "name": "ItemKind",
                  "type": "string"
                },
                {
                  "key": "4",
                  "name": "DurationInSec",
                  "type": "double"
                },
                {
                  "key": "5",
                  "name": "TotalCUs",
                  "type": "double"
                },
                {
                  "key": "6",
                  "name": "ThrottlingInMin",
                  "type": "double"
                },
                {
                  "key": "7",
                  "name": "UserCount",
                  "type": "bigint"
                },
                {
                  "key": "8",
                  "name": "SuccessOperationCount",
                  "type": "bigint"
                },
                {
                  "key": "9",
                  "name": "RejectedOperationCount",
                  "type": "bigint"
                },
                {
                  "key": "10",
                  "name": "OperationCount",
                  "type": "bigint"
                },
                {
                  "key": "11",
                  "name": "InvalidOperationCount",
                  "type": "bigint"
                },
                {
                  "key": "12",
                  "name": "FailureOperationCount",
                  "type": "bigint"
                },
                {
                  "key": "13",
                  "name": "CancelledOperationCount",
                  "type": "bigint"
                },
                {
                  "key": "14",
                  "name": "DateKey",
                  "type": "string"
                }
              ],
              "truncated": false
            },
            "isSummary": false,
            "language": "scala",
            "wranglerEntryContext": {
              "candidateVariableNames": [
                "capacity_df"
              ],
              "dataframeType": "pyspark"
            }
          },
          "persist_state": {
            "view": {
              "type": "details",
              "tableOptions": {},
              "chartOptions": {
                "chartType": "bar",
                "categoryFieldKeys": [],
                "seriesFieldKeys": [],
                "aggregationType": "sum",
                "isStacked": false,
                "binsNumber": 10,
                "wordFrequency": "-1"
              },
              "viewOptionsGroup": [
                {
                  "tabItems": [
                    {
                      "type": "table",
                      "name": "Table",
                      "key": "0",
                      "options": {}
                    }
                  ]
                }
              ]
            }
          }
        }
      }
    },
    "spark_compute": {
      "compute_id": "/trident/default",
      "session_options": {
        "conf": {
          "spark.synapse.nbs.session.timeout": "1200000"
        }
      }
    },
    "dependencies": {
      "lakehouse": {
        "default_lakehouse": "6cff634b-88f7-3505-bed2-c03a36776a8b",
        "default_lakehouse_name": "FUAM_Lakehouse",
        "default_lakehouse_workspace_id": "88c8d9fa-2c24-3fad-8f46-b36431c7ba1d",
        "known_lakehouses": [
          {
            "id": "6cff634b-88f7-3505-bed2-c03a36776a8b"
          }
        ]
      },
      "environment": {}
    }
  },
  "nbformat": 4,
  "nbformat_minor": 5
}